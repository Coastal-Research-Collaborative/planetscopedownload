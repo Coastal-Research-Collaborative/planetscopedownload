{
 "cells": [
  {
   "cell_type": "code",
   "execution_count": null,
   "id": "334f95dd",
   "metadata": {},
   "outputs": [],
   "source": [
    "import os"
   ]
  },
  {
   "cell_type": "markdown",
   "id": "e0dea0ea",
   "metadata": {},
   "source": []
  }
 ],
 "metadata": {
  "language_info": {
   "name": "python"
  }
 },
 "nbformat": 4,
 "nbformat_minor": 5
}
