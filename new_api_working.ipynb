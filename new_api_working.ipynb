{
 "cells": [
  {
   "cell_type": "code",
   "execution_count": 46,
   "id": "334f95dd",
   "metadata": {},
   "outputs": [],
   "source": [
    "import os\n",
    "import json\n",
    "import time\n",
    "import requests\n",
    "import importlib\n",
    "from planetscopedownload import planetscopedownload\n",
    "importlib.reload(planetscopedownload)\n",
    "\n",
    "data_dir = 'data'\n",
    "api_path = os.path.join(data_dir, 'planetscope', \"PlanetScope_API_key.txt\")\n",
    "PLANET_API_KEY = planetscopedownload.load_api_key(api_path)"
   ]
  },
  {
   "cell_type": "code",
   "execution_count": 47,
   "id": "f91668e5",
   "metadata": {},
   "outputs": [
    {
     "name": "stdout",
     "output_type": "stream",
     "text": [
      "polygon=[[-157.830072, 21.274378], [-157.824826, 21.274378], [-157.824826, 21.277268], [-157.830072, 21.277268], [-157.830072, 21.274378]]\n",
      "Planets data and orders API authentification successful\n",
      "4 applicable images\n",
      "✅ Order placed successfully\n",
      "Order ID: a42d5c7a-7804-4ba2-9771-5b769997875b\n",
      "queued\n",
      "running\n",
      "running\n",
      "running\n",
      "running\n",
      "running\n",
      "running\n",
      "running\n",
      "running\n",
      "running\n",
      "running\n",
      "running\n",
      "running\n",
      "running\n",
      "running\n",
      "running\n",
      "running\n",
      "running\n",
      "running\n",
      "running\n",
      "running\n",
      "running\n",
      "running\n",
      "running\n",
      "running\n",
      "running\n",
      "running\n",
      "running\n",
      "running\n",
      "running\n"
     ]
    },
    {
     "ename": "KeyError",
     "evalue": "'results'",
     "output_type": "error",
     "traceback": [
      "\u001b[31m---------------------------------------------------------------------------\u001b[39m",
      "\u001b[31mKeyError\u001b[39m                                  Traceback (most recent call last)",
      "\u001b[36mCell\u001b[39m\u001b[36m \u001b[39m\u001b[32mIn[47]\u001b[39m\u001b[32m, line 1\u001b[39m\n\u001b[32m----> \u001b[39m\u001b[32m1\u001b[39m planetscopedownload.retrieve_imagery(\n\u001b[32m      2\u001b[39m     sitename=\u001b[33m'\u001b[39m\u001b[33mhawaiiwaikiki\u001b[39m\u001b[33m'\u001b[39m, \n\u001b[32m      3\u001b[39m     start_date=\u001b[33m'\u001b[39m\u001b[33m2019-01-01\u001b[39m\u001b[33m'\u001b[39m, \n\u001b[32m      4\u001b[39m     end_date=\u001b[33m'\u001b[39m\u001b[33m2019-01-15\u001b[39m\u001b[33m'\u001b[39m, \n\u001b[32m      5\u001b[39m     planet_api_key=PLANET_API_KEY,\n\u001b[32m      6\u001b[39m     data_dir=\u001b[33mr\u001b[39m\u001b[33m'\u001b[39m\u001b[33mC:\u001b[39m\u001b[33m\\\u001b[39m\u001b[33mUsers\u001b[39m\u001b[33m\\\u001b[39m\u001b[33mJoel Nic\u001b[39m\u001b[33m\\\u001b[39m\u001b[33mDocuments\u001b[39m\u001b[33m\\\u001b[39m\u001b[33mcollege\u001b[39m\u001b[33m\\\u001b[39m\u001b[33mresearch\u001b[39m\u001b[33m\\\u001b[39m\u001b[33mCRC\u001b[39m\u001b[33m\\\u001b[39m\u001b[33mSDS_performance_analysis\u001b[39m\u001b[33m\\\u001b[39m\u001b[33mdata\u001b[39m\u001b[33m'\u001b[39m\n\u001b[32m      7\u001b[39m     )\n",
      "\u001b[36mFile \u001b[39m\u001b[32mc:\\Users\\Joel Nic\\Documents\\college\\research\\CRC\\planetscopedownload\\planetscopedownload\\planetscopedownload.py:309\u001b[39m, in \u001b[36mretrieve_imagery\u001b[39m\u001b[34m(sitename, start_date, end_date, planet_api_key, data_dir, polygon)\u001b[39m\n\u001b[32m      0\u001b[39m <Error retrieving source code with stack_data see ipython/ipython#13598>\n",
      "\u001b[31mKeyError\u001b[39m: 'results'"
     ]
    }
   ],
   "source": [
    "planetscopedownload.retrieve_imagery(\n",
    "    sitename='hawaiiwaikiki', \n",
    "    start_date='2019-01-01', \n",
    "    end_date='2019-01-15', \n",
    "    planet_api_key=PLANET_API_KEY,\n",
    "    data_dir=r'C:\\Users\\Joel Nic\\Documents\\college\\research\\CRC\\SDS_performance_analysis\\data'\n",
    "    )"
   ]
  },
  {
   "cell_type": "markdown",
   "id": "22e934f6",
   "metadata": {},
   "source": [
    "# Download"
   ]
  },
  {
   "cell_type": "code",
   "execution_count": null,
   "id": "d139f52d",
   "metadata": {},
   "outputs": [],
   "source": [
    "import pathlib\n"
   ]
  },
  {
   "cell_type": "code",
   "execution_count": null,
   "id": "316e3ff6",
   "metadata": {},
   "outputs": [],
   "source": []
  },
  {
   "cell_type": "code",
   "execution_count": 3,
   "id": "534aaf07",
   "metadata": {},
   "outputs": [],
   "source": [
    "def write_api_key_file(api_key:str, overwrite:bool=False, data_dir:str=os.path.join(os.getcwd(), 'data')):\n",
    "    sites_dir = os.path.join(data_dir, 'sites')\n",
    "    if not os.path.exists(sites_dir): os.mkdir(sites_dir)\n",
    "    \n",
    "    file_path = os.path.join(sites_dir, 'PlanetScope_API_key.txt')\n",
    "    if overwrite or not os.path.exists(file_path):\n",
    "        # if we want to overwrite or if it doesnt exsist we will need to make it\n",
    "        with open(file_path, \"w\") as file:\n",
    "            file.write(api_key)"
   ]
  }
 ],
 "metadata": {
  "kernelspec": {
   "display_name": "apis",
   "language": "python",
   "name": "python3"
  },
  "language_info": {
   "codemirror_mode": {
    "name": "ipython",
    "version": 3
   },
   "file_extension": ".py",
   "mimetype": "text/x-python",
   "name": "python",
   "nbconvert_exporter": "python",
   "pygments_lexer": "ipython3",
   "version": "3.11.11"
  }
 },
 "nbformat": 4,
 "nbformat_minor": 5
}
