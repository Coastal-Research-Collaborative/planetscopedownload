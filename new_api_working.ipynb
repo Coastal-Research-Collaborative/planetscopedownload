{
 "cells": [
  {
   "cell_type": "code",
   "execution_count": 19,
   "id": "334f95dd",
   "metadata": {},
   "outputs": [],
   "source": [
    "import os\n",
    "import json\n",
    "import time\n",
    "import requests\n",
    "import importlib\n",
    "from planetscopedownload import planetscopedownload\n",
    "importlib.reload(planetscopedownload)\n",
    "\n",
    "data_dir = 'data'\n",
    "api_path = os.path.join(data_dir, 'sites', \"PlanetScope_API_key.txt\")\n",
    "PLANET_API_KEY = planetscopedownload.load_api_key(api_path)"
   ]
  },
  {
   "cell_type": "markdown",
   "id": "e0dea0ea",
   "metadata": {},
   "source": [
    "# testing new Planetscope API key"
   ]
  },
  {
   "cell_type": "code",
   "execution_count": 5,
   "id": "94eb3d5c",
   "metadata": {},
   "outputs": [],
   "source": [
    "cloud_filter = {\n",
    "    \"type\": \"RangeFilter\",\n",
    "    \"field_name\": \"cloud_cover\",\n",
    "    \"config\": {\n",
    "        'lt': 0.1\n",
    "    }\n",
    "}"
   ]
  },
  {
   "cell_type": "code",
   "execution_count": 6,
   "id": "2410f489",
   "metadata": {},
   "outputs": [],
   "source": [
    "and_filter = {\n",
    "    \"type\": 'AndFilter',\n",
    "    \"config\": [geometry, data_filter, cloud_filter]\n",
    "}\n",
    "\n",
    "# p(and_filter)"
   ]
  },
  {
   "cell_type": "markdown",
   "id": "f59be59a",
   "metadata": {},
   "source": [
    "# Find out which ones we have permissions for"
   ]
  },
  {
   "cell_type": "markdown",
   "id": "cca61fc9",
   "metadata": {},
   "source": [
    "# Donwload with orders API"
   ]
  },
  {
   "cell_type": "code",
   "execution_count": 7,
   "id": "1a2fe690",
   "metadata": {},
   "outputs": [
    {
     "name": "stdout",
     "output_type": "stream",
     "text": [
      "Planets data and orders API authentification successful\n"
     ]
    }
   ],
   "source": [
    "DATA_URL =  'https://api.planet.com/data/v1'\n",
    "DATA_QUICK_SEARCH_URL = f'{DATA_URL}/quick-search'\n",
    "ORDERS_URL = 'https://api.planet.com/compute/ops/orders/v2'\n",
    "ITEM_TYPE = \"PSScene\"\n",
    "\n",
    "\n",
    "\n",
    "def planet_auth(planet_api, data_url='https://api.planet.com/data/v1', orders_url='https://api.planet.com/compute/ops/orders/v2'):\n",
    "    auth = requests.auth.HTTPBasicAuth(planet_api, '')\n",
    "    data_response = requests.get(data_url, auth=auth)\n",
    "    orders_response = requests.get(orders_url, auth=auth)\n",
    "    if not data_response.status_code in [200, 201, 202]: raise RuntimeError(f\"Authentification failed for data api: {json.dumps(data_response.json(), indent=2)}\")\n",
    "    if not orders_response.status_code in [200, 201, 202]: raise RuntimeError(f\"Authentification failed for orders api: {json.dumps(orders_response.json(), indent=2)}\")\n",
    "    print('Planets data and orders API authentification successful')\n",
    "    return auth\n",
    "\n",
    "auth = planet_auth(PLANET_API_KEY)\n",
    "    "
   ]
  },
  {
   "cell_type": "code",
   "execution_count": 8,
   "id": "f91668e5",
   "metadata": {},
   "outputs": [
    {
     "name": "stdout",
     "output_type": "stream",
     "text": [
      "Planets data and orders API authentification successful\n"
     ]
    }
   ],
   "source": [
    "# get the ids that we are interested in\n",
    "\n",
    "def get_item_ids(and_filter:dict, auth_or_api_key:requests.auth.HTTPBasicAuth, data_quick_search_url='https://api.planet.com/data/v1/quick-search', item_type='PSScene'):\n",
    "\n",
    "    if isinstance(auth_or_api_key, str):\n",
    "        auth = planet_auth(PLANET_API_KEY) \n",
    "    elif isinstance(auth_or_api_key, requests.auth.HTTPBasicAuth):\n",
    "        auth = auth_or_api_key\n",
    "\n",
    "    desired_products = [\n",
    "        'assets.ortho_analytic_4b_sr:download', # toar image\n",
    "        'assets.ortho_udm2:download' # udm file\n",
    "    ]\n",
    "    \n",
    "\n",
    "    search_request = {\n",
    "        \"item_types\": [item_type],\n",
    "        \"filter\": and_filter\n",
    "    }\n",
    "\n",
    "\n",
    "    search_result = requests.post(\n",
    "        data_quick_search_url,\n",
    "        auth = auth,\n",
    "        json=search_request\n",
    "    )\n",
    "\n",
    "    if not search_result.status_code in (200, 201, 202):\n",
    "        print(\"❌ Failed to place order\")\n",
    "        print(f\"Status code: {search_result.status_code}\")\n",
    "        try:\n",
    "            print(\"Error details:\", json.dumps(search_result.json(), indent=2))\n",
    "        except Exception:\n",
    "            print(\"Raw response:\", search_result.text)\n",
    "        raise RuntimeError('See above issue in data API')\n",
    "\n",
    "    # print(feature['id'])\n",
    "    # p(feature['_permissions']) # NOTE maybe can tell us if we have access\n",
    "    features = search_result.json()['features']\n",
    "    image_ids = []\n",
    "    for feature in features:\n",
    "        valid = True\n",
    "        for product_type in desired_products:\n",
    "            if not product_type in feature['_permissions']:\n",
    "                # print(f'{product_type} missing permissions for {feature[\"id\"]}')\n",
    "                valid=False # NOTE if there inst permission to all the data we need skip this id\n",
    "        if valid: image_ids.append(feature['id'])\n",
    "    \n",
    "    return(image_ids)\n",
    "\n",
    "image_ids = get_item_ids(and_filter=and_filter, auth_or_api_key=PLANET_API_KEY)"
   ]
  },
  {
   "cell_type": "code",
   "execution_count": 11,
   "id": "229f9136",
   "metadata": {},
   "outputs": [],
   "source": [
    "sitename = 'australianarrabeen'\n",
    "\n",
    "products = [\n",
    "    {\n",
    "        'item_ids': image_ids,\n",
    "        'item_type': \"PSScene\",\n",
    "        \"product_bundle\":\"analytic_udm2\"\n",
    "    }\n",
    "]\n",
    "\n",
    "request = {\n",
    "    \"name\": sitename,\n",
    "    \"products\":products,\n",
    "    \"delivery\": {\"single_archive\": True, \"archive_type\": 'zip'}\n",
    "}"
   ]
  },
  {
   "cell_type": "code",
   "execution_count": 12,
   "id": "9cdc80f0",
   "metadata": {},
   "outputs": [],
   "source": [
    "headers = {'content-type': 'application/json'}\n",
    "\n",
    "def place_order(request, auth, orders_url='https://api.planet.com/compute/ops/orders/v2'):\n",
    "    response = requests.post(orders_url, data=json.dumps(request), auth=auth, headers=headers)\n",
    "\n",
    "    if response.status_code in (200, 201, 202):\n",
    "        print(\"✅ Order placed successfully\")\n",
    "        order_id = response.json()['id']\n",
    "        print(f\"Order ID: {order_id}\")\n",
    "        order_url = orders_url + '/' + order_id\n",
    "        return order_url\n",
    "    else:\n",
    "        print(\"❌ Failed to place order\")\n",
    "        print(f\"Status code: {response.status_code}\")\n",
    "        try:\n",
    "            print(\"Error details:\", json.dumps(response.json(), indent=2))\n",
    "        except Exception:\n",
    "            print(\"Raw response:\", response.text)\n",
    "        return None"
   ]
  },
  {
   "cell_type": "code",
   "execution_count": 13,
   "id": "74523606",
   "metadata": {},
   "outputs": [
    {
     "name": "stdout",
     "output_type": "stream",
     "text": [
      "✅ Order placed successfully\n",
      "Order ID: 9ef82dd0-c3f5-430d-849c-a7564cf735b4\n"
     ]
    }
   ],
   "source": [
    "order_url = place_order(request, session.auth)"
   ]
  },
  {
   "cell_type": "code",
   "execution_count": 14,
   "id": "2e6f9e9d",
   "metadata": {},
   "outputs": [
    {
     "name": "stdout",
     "output_type": "stream",
     "text": [
      "running\n",
      "running\n",
      "running\n",
      "running\n",
      "running\n",
      "running\n",
      "running\n",
      "running\n",
      "running\n",
      "running\n",
      "running\n",
      "running\n",
      "running\n",
      "running\n",
      "running\n",
      "running\n",
      "running\n",
      "running\n",
      "running\n",
      "running\n",
      "running\n",
      "running\n",
      "running\n",
      "running\n",
      "running\n",
      "running\n",
      "running\n",
      "running\n",
      "running\n",
      "running\n"
     ]
    }
   ],
   "source": [
    "def poll_for_success(order_url, auth, num_loops=30):\n",
    "    count = 0\n",
    "    while(count < num_loops):\n",
    "        count += 1\n",
    "        r = requests.get(order_url, auth=session.auth)\n",
    "        response = r.json()\n",
    "        state = response['state']\n",
    "        print(state)\n",
    "        end_states = ['success', 'failed', 'partial']\n",
    "        if state in end_states:\n",
    "            print(state)\n",
    "            break\n",
    "        time.sleep(10)\n",
    "        \n",
    "poll_for_success(order_url, session.auth)"
   ]
  },
  {
   "cell_type": "code",
   "execution_count": 15,
   "id": "877fdc0e",
   "metadata": {},
   "outputs": [],
   "source": [
    "r = requests.get(order_url, auth=session.auth)\n",
    "response = r.json()\n",
    "results = response['_links']['results']"
   ]
  },
  {
   "cell_type": "code",
   "execution_count": 16,
   "id": "abeb3a5d",
   "metadata": {},
   "outputs": [
    {
     "data": {
      "text/plain": [
       "['9ef82dd0-c3f5-430d-849c-a7564cf735b4/output.zip']"
      ]
     },
     "execution_count": 16,
     "metadata": {},
     "output_type": "execute_result"
    }
   ],
   "source": [
    "[r['name'] for r in results]"
   ]
  },
  {
   "cell_type": "markdown",
   "id": "22e934f6",
   "metadata": {},
   "source": [
    "# Download"
   ]
  },
  {
   "cell_type": "code",
   "execution_count": null,
   "id": "d139f52d",
   "metadata": {},
   "outputs": [],
   "source": [
    "import pathlib\n",
    "def download_results(results, overwrite=False):\n",
    "    results_urls = [r['location'] for r in results]\n",
    "    results_names = [r['name'] for r in results]\n",
    "    print('{} items to download'.format(len(results_urls)))\n",
    "    \n",
    "    for url, name in zip(results_urls, results_names):\n",
    "        path = pathlib.Path(os.path.join('data', name))\n",
    "        \n",
    "        if overwrite or not path.exists():\n",
    "            print('downloading {} to {}'.format(name, path))\n",
    "            r = requests.get(url, allow_redirects=True)\n",
    "            path.parent.mkdir(parents=True, exist_ok=True)\n",
    "            open(path, 'wb').write(r.content)\n",
    "        else:\n",
    "            print('{} already exists, skipping {}'.format(path, name))"
   ]
  },
  {
   "cell_type": "code",
   "execution_count": null,
   "id": "316e3ff6",
   "metadata": {},
   "outputs": [],
   "source": []
  },
  {
   "cell_type": "code",
   "execution_count": 3,
   "id": "534aaf07",
   "metadata": {},
   "outputs": [],
   "source": [
    "def write_api_key_file(api_key:str, overwrite:bool=False, data_dir:str=os.path.join(os.getcwd(), 'data')):\n",
    "    sites_dir = os.path.join(data_dir, 'sites')\n",
    "    if not os.path.exists(sites_dir): os.mkdir(sites_dir)\n",
    "    \n",
    "    file_path = os.path.join(sites_dir, 'PlanetScope_API_key.txt')\n",
    "    if overwrite or not os.path.exists(file_path):\n",
    "        # if we want to overwrite or if it doesnt exsist we will need to make it\n",
    "        with open(file_path, \"w\") as file:\n",
    "            file.write(api_key)"
   ]
  }
 ],
 "metadata": {
  "kernelspec": {
   "display_name": "apis",
   "language": "python",
   "name": "python3"
  },
  "language_info": {
   "codemirror_mode": {
    "name": "ipython",
    "version": 3
   },
   "file_extension": ".py",
   "mimetype": "text/x-python",
   "name": "python",
   "nbconvert_exporter": "python",
   "pygments_lexer": "ipython3",
   "version": "3.11.11"
  }
 },
 "nbformat": 4,
 "nbformat_minor": 5
}
