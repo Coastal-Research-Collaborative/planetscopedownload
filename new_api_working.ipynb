{
 "cells": [
  {
   "cell_type": "code",
   "execution_count": 33,
   "id": "334f95dd",
   "metadata": {},
   "outputs": [],
   "source": [
    "import os\n",
    "import json\n",
    "import time\n",
    "import requests\n",
    "import importlib\n",
    "from planetscopedownload import planetscopedownload\n",
    "importlib.reload(planetscopedownload)\n",
    "\n",
    "data_dir = 'data'\n",
    "api_path = os.path.join(data_dir, 'planetscope', \"PlanetScope_API_key.txt\")\n",
    "PLANET_API_KEY = planetscopedownload.load_api_key(api_path)"
   ]
  },
  {
   "cell_type": "code",
   "execution_count": 34,
   "id": "f91668e5",
   "metadata": {},
   "outputs": [
    {
     "name": "stdout",
     "output_type": "stream",
     "text": [
      "[[-157.830072, 21.274378], [-157.824826, 21.274378], [-157.824826, 21.277268], [-157.830072, 21.277268], [-157.830072, 21.274378]]\n",
      "Planets data and orders API authentification successful\n",
      "['20190111_203602_0e2f', '20190111_203601_0e2f', '20190108_202719_0f21', '20190105_204041_1015']\n"
     ]
    }
   ],
   "source": [
    "planetscopedownload.retrieve_imagery(\n",
    "    sitename='hawaiiwaikiki', \n",
    "    start_date='2019-01-01', \n",
    "    end_date='2019-01-15', \n",
    "    planet_api_key=PLANET_API_KEY,\n",
    "    data_dir=r'C:\\Users\\Joel Nic\\Documents\\college\\research\\CRC\\SDS_performance_analysis\\data'\n",
    "    )"
   ]
  },
  {
   "cell_type": "code",
   "execution_count": 14,
   "id": "2e6f9e9d",
   "metadata": {},
   "outputs": [
    {
     "name": "stdout",
     "output_type": "stream",
     "text": [
      "running\n",
      "running\n",
      "running\n",
      "running\n",
      "running\n",
      "running\n",
      "running\n",
      "running\n",
      "running\n",
      "running\n",
      "running\n",
      "running\n",
      "running\n",
      "running\n",
      "running\n",
      "running\n",
      "running\n",
      "running\n",
      "running\n",
      "running\n",
      "running\n",
      "running\n",
      "running\n",
      "running\n",
      "running\n",
      "running\n",
      "running\n",
      "running\n",
      "running\n",
      "running\n"
     ]
    }
   ],
   "source": [
    "def poll_for_success(order_url, auth, num_loops=30):\n",
    "    count = 0\n",
    "    while(count < num_loops):\n",
    "        count += 1\n",
    "        r = requests.get(order_url, auth=session.auth)\n",
    "        response = r.json()\n",
    "        state = response['state']\n",
    "        print(state)\n",
    "        end_states = ['success', 'failed', 'partial']\n",
    "        if state in end_states:\n",
    "            print(state)\n",
    "            break\n",
    "        time.sleep(10)\n",
    "        \n",
    "poll_for_success(order_url, session.auth)"
   ]
  },
  {
   "cell_type": "code",
   "execution_count": 15,
   "id": "877fdc0e",
   "metadata": {},
   "outputs": [],
   "source": [
    "r = requests.get(order_url, auth=session.auth)\n",
    "response = r.json()\n",
    "results = response['_links']['results']"
   ]
  },
  {
   "cell_type": "code",
   "execution_count": 16,
   "id": "abeb3a5d",
   "metadata": {},
   "outputs": [
    {
     "data": {
      "text/plain": [
       "['9ef82dd0-c3f5-430d-849c-a7564cf735b4/output.zip']"
      ]
     },
     "execution_count": 16,
     "metadata": {},
     "output_type": "execute_result"
    }
   ],
   "source": [
    "[r['name'] for r in results]"
   ]
  },
  {
   "cell_type": "markdown",
   "id": "22e934f6",
   "metadata": {},
   "source": [
    "# Download"
   ]
  },
  {
   "cell_type": "code",
   "execution_count": null,
   "id": "d139f52d",
   "metadata": {},
   "outputs": [],
   "source": [
    "import pathlib\n",
    "def download_results(results, overwrite=False):\n",
    "    results_urls = [r['location'] for r in results]\n",
    "    results_names = [r['name'] for r in results]\n",
    "    print('{} items to download'.format(len(results_urls)))\n",
    "    \n",
    "    for url, name in zip(results_urls, results_names):\n",
    "        path = pathlib.Path(os.path.join('data', name))\n",
    "        \n",
    "        if overwrite or not path.exists():\n",
    "            print('downloading {} to {}'.format(name, path))\n",
    "            r = requests.get(url, allow_redirects=True)\n",
    "            path.parent.mkdir(parents=True, exist_ok=True)\n",
    "            open(path, 'wb').write(r.content)\n",
    "        else:\n",
    "            print('{} already exists, skipping {}'.format(path, name))"
   ]
  },
  {
   "cell_type": "code",
   "execution_count": null,
   "id": "316e3ff6",
   "metadata": {},
   "outputs": [],
   "source": []
  },
  {
   "cell_type": "code",
   "execution_count": 3,
   "id": "534aaf07",
   "metadata": {},
   "outputs": [],
   "source": [
    "def write_api_key_file(api_key:str, overwrite:bool=False, data_dir:str=os.path.join(os.getcwd(), 'data')):\n",
    "    sites_dir = os.path.join(data_dir, 'sites')\n",
    "    if not os.path.exists(sites_dir): os.mkdir(sites_dir)\n",
    "    \n",
    "    file_path = os.path.join(sites_dir, 'PlanetScope_API_key.txt')\n",
    "    if overwrite or not os.path.exists(file_path):\n",
    "        # if we want to overwrite or if it doesnt exsist we will need to make it\n",
    "        with open(file_path, \"w\") as file:\n",
    "            file.write(api_key)"
   ]
  }
 ],
 "metadata": {
  "kernelspec": {
   "display_name": "apis",
   "language": "python",
   "name": "python3"
  },
  "language_info": {
   "codemirror_mode": {
    "name": "ipython",
    "version": 3
   },
   "file_extension": ".py",
   "mimetype": "text/x-python",
   "name": "python",
   "nbconvert_exporter": "python",
   "pygments_lexer": "ipython3",
   "version": "3.11.11"
  }
 },
 "nbformat": 4,
 "nbformat_minor": 5
}
