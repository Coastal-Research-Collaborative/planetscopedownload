{
 "cells": [
  {
   "cell_type": "code",
   "execution_count": 59,
   "id": "334f95dd",
   "metadata": {},
   "outputs": [],
   "source": [
    "import os\n",
    "import json\n",
    "import time\n",
    "import requests\n",
    "import importlib\n",
    "from planetscopedownload import planetscopedownload\n",
    "importlib.reload(planetscopedownload)\n",
    "\n",
    "data_dir = 'data'\n",
    "api_path = os.path.join(data_dir, 'planetscope', \"PlanetScope_API_key.txt\")\n",
    "PLANET_API_KEY = planetscopedownload.load_api_key(api_path)"
   ]
  },
  {
   "cell_type": "code",
   "execution_count": 58,
   "id": "9ffd29c2",
   "metadata": {},
   "outputs": [
    {
     "data": {
      "text/plain": [
       "[]"
      ]
     },
     "execution_count": 58,
     "metadata": {},
     "output_type": "execute_result"
    }
   ],
   "source": [
    "from glob import glob\n",
    "glob(r'C:\\Users\\Joel Nic\\Documents\\college\\research\\CRC\\SDS_performance_analysis\\data\\sat_images\\hawaiiwaikiki\\PS\\*')"
   ]
  },
  {
   "cell_type": "code",
   "execution_count": 53,
   "id": "4a74686a",
   "metadata": {},
   "outputs": [],
   "source": [
    "planetscopedownload.unzip_downloaded_imagery(sitename='hawaiiwaikiki', data_dir=r'C:\\Users\\Joel Nic\\Documents\\college\\research\\CRC\\SDS_performance_analysis\\data')\n"
   ]
  },
  {
   "cell_type": "code",
   "execution_count": null,
   "id": "f91668e5",
   "metadata": {},
   "outputs": [
    {
     "name": "stdout",
     "output_type": "stream",
     "text": [
      "polygon=[[-157.830072, 21.274378], [-157.824826, 21.274378], [-157.824826, 21.277268], [-157.830072, 21.277268], [-157.830072, 21.274378]]\n",
      "Planets data and orders API authentification successful\n",
      "✅ Order placed successfully\n",
      "Order ID: 8ac9706d-6593-47d0-b49f-2336d0505721\n",
      "queued\n",
      "running\n"
     ]
    }
   ],
   "source": [
    "planetscopedownload.retrieve_imagery(\n",
    "    sitename='hawaiiwaikiki', \n",
    "    start_date='2019-01-01', \n",
    "    end_date='2019-01-15', \n",
    "    planet_api_key=PLANET_API_KEY,\n",
    "    data_dir=r'C:\\Users\\Joel Nic\\Documents\\college\\research\\CRC\\SDS_performance_analysis\\data'\n",
    "    )"
   ]
  },
  {
   "cell_type": "markdown",
   "id": "22e934f6",
   "metadata": {},
   "source": [
    "# Download"
   ]
  },
  {
   "cell_type": "code",
   "execution_count": null,
   "id": "d139f52d",
   "metadata": {},
   "outputs": [],
   "source": [
    "import pathlib\n"
   ]
  },
  {
   "cell_type": "code",
   "execution_count": null,
   "id": "316e3ff6",
   "metadata": {},
   "outputs": [],
   "source": []
  },
  {
   "cell_type": "code",
   "execution_count": 3,
   "id": "534aaf07",
   "metadata": {},
   "outputs": [],
   "source": [
    "def write_api_key_file(api_key:str, overwrite:bool=False, data_dir:str=os.path.join(os.getcwd(), 'data')):\n",
    "    sites_dir = os.path.join(data_dir, 'sites')\n",
    "    if not os.path.exists(sites_dir): os.mkdir(sites_dir)\n",
    "    \n",
    "    file_path = os.path.join(sites_dir, 'PlanetScope_API_key.txt')\n",
    "    if overwrite or not os.path.exists(file_path):\n",
    "        # if we want to overwrite or if it doesnt exsist we will need to make it\n",
    "        with open(file_path, \"w\") as file:\n",
    "            file.write(api_key)"
   ]
  }
 ],
 "metadata": {
  "kernelspec": {
   "display_name": "apis",
   "language": "python",
   "name": "python3"
  },
  "language_info": {
   "codemirror_mode": {
    "name": "ipython",
    "version": 3
   },
   "file_extension": ".py",
   "mimetype": "text/x-python",
   "name": "python",
   "nbconvert_exporter": "python",
   "pygments_lexer": "ipython3",
   "version": "3.11.11"
  }
 },
 "nbformat": 4,
 "nbformat_minor": 5
}
