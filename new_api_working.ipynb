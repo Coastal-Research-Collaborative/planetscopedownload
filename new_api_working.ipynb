{
 "cells": [
  {
   "cell_type": "code",
   "execution_count": 24,
   "id": "334f95dd",
   "metadata": {},
   "outputs": [],
   "source": [
    "import os\n",
    "import json\n",
    "import time\n",
    "import requests\n",
    "\n",
    "data_dir = 'data'\n",
    "with open(os.path.join(data_dir, 'sites', \"PlanetScope_API_key.txt\"), \"r\") as file:\n",
    "   PLANET_API_KEY = file.read()  # Read entire file content"
   ]
  },
  {
   "cell_type": "markdown",
   "id": "e0dea0ea",
   "metadata": {},
   "source": [
    "# testing new Planetscope API key"
   ]
  },
  {
   "cell_type": "code",
   "execution_count": 28,
   "id": "f9a9702d",
   "metadata": {},
   "outputs": [],
   "source": [
    "# data API testing\n",
    "URL = 'https://api.planet.com/data/v1'\n",
    "\n",
    "# session\n",
    "session = requests.Session()\n",
    "\n",
    "session.auth = (PLANET_API_KEY, \"\")\n",
    "\n",
    "res = session.get(URL)\n",
    "res.status_code\n",
    "\n",
    "def p(data):\n",
    "    print(json.dumps(data, indent = 2))"
   ]
  },
  {
   "cell_type": "code",
   "execution_count": 100,
   "id": "5f07c8e2",
   "metadata": {},
   "outputs": [],
   "source": [
    "data_filter = {\n",
    "    \"type\": \"DateRangeFilter\",\n",
    "    \"field_name\": \"acquired\",\n",
    "    \"config\": {\n",
    "        \"gte\" : \"2017-11-30T00:00:00.000Z\",\n",
    "        'lte' : '2018-01-30T00:00:00.000Z'\n",
    "    }\n",
    "}"
   ]
  },
  {
   "cell_type": "code",
   "execution_count": 57,
   "id": "c349fd93",
   "metadata": {},
   "outputs": [],
   "source": [
    "geometry = {\n",
    "    \"type\": \"GeometryFilter\",\n",
    "    \"field_name\": \"geometry\",\n",
    "    \"config\": {\n",
    "        \"type\": 'Polygon',\n",
    "        \"coordinates\" :[\n",
    "            [\n",
    "                [\n",
    "                    151.29416017849223,\n",
    "                    -33.740609827816364\n",
    "                ],\n",
    "                [\n",
    "                    151.3173344643809,\n",
    "                    -33.740609827816364\n",
    "                ],\n",
    "                [\n",
    "                    151.3173344643809,\n",
    "                    -33.69449020757253\n",
    "                ],\n",
    "                [\n",
    "                    151.29416017849223,\n",
    "                    -33.69449020757253\n",
    "                ],\n",
    "                [\n",
    "                    151.29416017849223,\n",
    "                    -33.740609827816364\n",
    "                ]\n",
    "            ]\n",
    "        ]\n",
    "    }\n",
    "}"
   ]
  },
  {
   "cell_type": "code",
   "execution_count": 79,
   "id": "94eb3d5c",
   "metadata": {},
   "outputs": [],
   "source": [
    "cloud_filter = {\n",
    "    \"type\": \"RangeFilter\",\n",
    "    \"field_name\": \"cloud_cover\",\n",
    "    \"config\": {\n",
    "        'lt': 0.1\n",
    "    }\n",
    "}"
   ]
  },
  {
   "cell_type": "code",
   "execution_count": 101,
   "id": "2410f489",
   "metadata": {},
   "outputs": [
    {
     "name": "stdout",
     "output_type": "stream",
     "text": [
      "{\n",
      "  \"type\": \"AndFilter\",\n",
      "  \"config\": [\n",
      "    {\n",
      "      \"type\": \"GeometryFilter\",\n",
      "      \"field_name\": \"geometry\",\n",
      "      \"config\": {\n",
      "        \"type\": \"Polygon\",\n",
      "        \"coordinates\": [\n",
      "          [\n",
      "            [\n",
      "              151.29416017849223,\n",
      "              -33.740609827816364\n",
      "            ],\n",
      "            [\n",
      "              151.3173344643809,\n",
      "              -33.740609827816364\n",
      "            ],\n",
      "            [\n",
      "              151.3173344643809,\n",
      "              -33.69449020757253\n",
      "            ],\n",
      "            [\n",
      "              151.29416017849223,\n",
      "              -33.69449020757253\n",
      "            ],\n",
      "            [\n",
      "              151.29416017849223,\n",
      "              -33.740609827816364\n",
      "            ]\n",
      "          ]\n",
      "        ]\n",
      "      }\n",
      "    },\n",
      "    {\n",
      "      \"type\": \"DateRangeFilter\",\n",
      "      \"field_name\": \"acquired\",\n",
      "      \"config\": {\n",
      "        \"gte\": \"2017-11-30T00:00:00.000Z\",\n",
      "        \"lte\": \"2018-01-30T00:00:00.000Z\"\n",
      "      }\n",
      "    },\n",
      "    {\n",
      "      \"type\": \"RangeFilter\",\n",
      "      \"field_name\": \"cloud_cover\",\n",
      "      \"config\": {\n",
      "        \"lt\": 0.1\n",
      "      }\n",
      "    }\n",
      "  ]\n",
      "}\n"
     ]
    }
   ],
   "source": [
    "and_filter = {\n",
    "    \"type\": 'AndFilter',\n",
    "    \"config\": [geometry, data_filter, cloud_filter]\n",
    "}\n",
    "\n",
    "p(and_filter)"
   ]
  },
  {
   "cell_type": "markdown",
   "id": "feb5b3e6",
   "metadata": {},
   "source": [
    "# Get id of products we want"
   ]
  },
  {
   "cell_type": "code",
   "execution_count": 102,
   "id": "2911003a",
   "metadata": {},
   "outputs": [
    {
     "ename": "ConnectionError",
     "evalue": "('Connection aborted.', RemoteDisconnected('Remote end closed connection without response'))",
     "output_type": "error",
     "traceback": [
      "\u001b[31m---------------------------------------------------------------------------\u001b[39m",
      "\u001b[31mRemoteDisconnected\u001b[39m                        Traceback (most recent call last)",
      "\u001b[36mFile \u001b[39m\u001b[32mc:\\Users\\Joel Nic\\anaconda3\\envs\\apis\\Lib\\site-packages\\urllib3\\connectionpool.py:787\u001b[39m, in \u001b[36mHTTPConnectionPool.urlopen\u001b[39m\u001b[34m(self, method, url, body, headers, retries, redirect, assert_same_host, timeout, pool_timeout, release_conn, chunked, body_pos, preload_content, decode_content, **response_kw)\u001b[39m\n\u001b[32m    786\u001b[39m \u001b[38;5;66;03m# Make the request on the HTTPConnection object\u001b[39;00m\n\u001b[32m--> \u001b[39m\u001b[32m787\u001b[39m response = \u001b[38;5;28mself\u001b[39m._make_request(\n\u001b[32m    788\u001b[39m     conn,\n\u001b[32m    789\u001b[39m     method,\n\u001b[32m    790\u001b[39m     url,\n\u001b[32m    791\u001b[39m     timeout=timeout_obj,\n\u001b[32m    792\u001b[39m     body=body,\n\u001b[32m    793\u001b[39m     headers=headers,\n\u001b[32m    794\u001b[39m     chunked=chunked,\n\u001b[32m    795\u001b[39m     retries=retries,\n\u001b[32m    796\u001b[39m     response_conn=response_conn,\n\u001b[32m    797\u001b[39m     preload_content=preload_content,\n\u001b[32m    798\u001b[39m     decode_content=decode_content,\n\u001b[32m    799\u001b[39m     **response_kw,\n\u001b[32m    800\u001b[39m )\n\u001b[32m    802\u001b[39m \u001b[38;5;66;03m# Everything went great!\u001b[39;00m\n",
      "\u001b[36mFile \u001b[39m\u001b[32mc:\\Users\\Joel Nic\\anaconda3\\envs\\apis\\Lib\\site-packages\\urllib3\\connectionpool.py:534\u001b[39m, in \u001b[36mHTTPConnectionPool._make_request\u001b[39m\u001b[34m(self, conn, method, url, body, headers, retries, timeout, chunked, response_conn, preload_content, decode_content, enforce_content_length)\u001b[39m\n\u001b[32m    533\u001b[39m \u001b[38;5;28;01mtry\u001b[39;00m:\n\u001b[32m--> \u001b[39m\u001b[32m534\u001b[39m     response = conn.getresponse()\n\u001b[32m    535\u001b[39m \u001b[38;5;28;01mexcept\u001b[39;00m (BaseSSLError, \u001b[38;5;167;01mOSError\u001b[39;00m) \u001b[38;5;28;01mas\u001b[39;00m e:\n",
      "\u001b[36mFile \u001b[39m\u001b[32mc:\\Users\\Joel Nic\\anaconda3\\envs\\apis\\Lib\\site-packages\\urllib3\\connection.py:516\u001b[39m, in \u001b[36mHTTPConnection.getresponse\u001b[39m\u001b[34m(self)\u001b[39m\n\u001b[32m    515\u001b[39m \u001b[38;5;66;03m# Get the response from http.client.HTTPConnection\u001b[39;00m\n\u001b[32m--> \u001b[39m\u001b[32m516\u001b[39m httplib_response = \u001b[38;5;28msuper\u001b[39m().getresponse()\n\u001b[32m    518\u001b[39m \u001b[38;5;28;01mtry\u001b[39;00m:\n",
      "\u001b[36mFile \u001b[39m\u001b[32mc:\\Users\\Joel Nic\\anaconda3\\envs\\apis\\Lib\\http\\client.py:1395\u001b[39m, in \u001b[36mHTTPConnection.getresponse\u001b[39m\u001b[34m(self)\u001b[39m\n\u001b[32m   1394\u001b[39m \u001b[38;5;28;01mtry\u001b[39;00m:\n\u001b[32m-> \u001b[39m\u001b[32m1395\u001b[39m     response.begin()\n\u001b[32m   1396\u001b[39m \u001b[38;5;28;01mexcept\u001b[39;00m \u001b[38;5;167;01mConnectionError\u001b[39;00m:\n",
      "\u001b[36mFile \u001b[39m\u001b[32mc:\\Users\\Joel Nic\\anaconda3\\envs\\apis\\Lib\\http\\client.py:325\u001b[39m, in \u001b[36mHTTPResponse.begin\u001b[39m\u001b[34m(self)\u001b[39m\n\u001b[32m    324\u001b[39m \u001b[38;5;28;01mwhile\u001b[39;00m \u001b[38;5;28;01mTrue\u001b[39;00m:\n\u001b[32m--> \u001b[39m\u001b[32m325\u001b[39m     version, status, reason = \u001b[38;5;28mself\u001b[39m._read_status()\n\u001b[32m    326\u001b[39m     \u001b[38;5;28;01mif\u001b[39;00m status != CONTINUE:\n",
      "\u001b[36mFile \u001b[39m\u001b[32mc:\\Users\\Joel Nic\\anaconda3\\envs\\apis\\Lib\\http\\client.py:294\u001b[39m, in \u001b[36mHTTPResponse._read_status\u001b[39m\u001b[34m(self)\u001b[39m\n\u001b[32m    291\u001b[39m \u001b[38;5;28;01mif\u001b[39;00m \u001b[38;5;129;01mnot\u001b[39;00m line:\n\u001b[32m    292\u001b[39m     \u001b[38;5;66;03m# Presumably, the server closed the connection before\u001b[39;00m\n\u001b[32m    293\u001b[39m     \u001b[38;5;66;03m# sending a valid response.\u001b[39;00m\n\u001b[32m--> \u001b[39m\u001b[32m294\u001b[39m     \u001b[38;5;28;01mraise\u001b[39;00m RemoteDisconnected(\u001b[33m\"\u001b[39m\u001b[33mRemote end closed connection without\u001b[39m\u001b[33m\"\u001b[39m\n\u001b[32m    295\u001b[39m                              \u001b[33m\"\u001b[39m\u001b[33m response\u001b[39m\u001b[33m\"\u001b[39m)\n\u001b[32m    296\u001b[39m \u001b[38;5;28;01mtry\u001b[39;00m:\n",
      "\u001b[31mRemoteDisconnected\u001b[39m: Remote end closed connection without response",
      "\nDuring handling of the above exception, another exception occurred:\n",
      "\u001b[31mProtocolError\u001b[39m                             Traceback (most recent call last)",
      "\u001b[36mFile \u001b[39m\u001b[32mc:\\Users\\Joel Nic\\anaconda3\\envs\\apis\\Lib\\site-packages\\requests\\adapters.py:667\u001b[39m, in \u001b[36mHTTPAdapter.send\u001b[39m\u001b[34m(self, request, stream, timeout, verify, cert, proxies)\u001b[39m\n\u001b[32m    666\u001b[39m \u001b[38;5;28;01mtry\u001b[39;00m:\n\u001b[32m--> \u001b[39m\u001b[32m667\u001b[39m     resp = conn.urlopen(\n\u001b[32m    668\u001b[39m         method=request.method,\n\u001b[32m    669\u001b[39m         url=url,\n\u001b[32m    670\u001b[39m         body=request.body,\n\u001b[32m    671\u001b[39m         headers=request.headers,\n\u001b[32m    672\u001b[39m         redirect=\u001b[38;5;28;01mFalse\u001b[39;00m,\n\u001b[32m    673\u001b[39m         assert_same_host=\u001b[38;5;28;01mFalse\u001b[39;00m,\n\u001b[32m    674\u001b[39m         preload_content=\u001b[38;5;28;01mFalse\u001b[39;00m,\n\u001b[32m    675\u001b[39m         decode_content=\u001b[38;5;28;01mFalse\u001b[39;00m,\n\u001b[32m    676\u001b[39m         retries=\u001b[38;5;28mself\u001b[39m.max_retries,\n\u001b[32m    677\u001b[39m         timeout=timeout,\n\u001b[32m    678\u001b[39m         chunked=chunked,\n\u001b[32m    679\u001b[39m     )\n\u001b[32m    681\u001b[39m \u001b[38;5;28;01mexcept\u001b[39;00m (ProtocolError, \u001b[38;5;167;01mOSError\u001b[39;00m) \u001b[38;5;28;01mas\u001b[39;00m err:\n",
      "\u001b[36mFile \u001b[39m\u001b[32mc:\\Users\\Joel Nic\\anaconda3\\envs\\apis\\Lib\\site-packages\\urllib3\\connectionpool.py:841\u001b[39m, in \u001b[36mHTTPConnectionPool.urlopen\u001b[39m\u001b[34m(self, method, url, body, headers, retries, redirect, assert_same_host, timeout, pool_timeout, release_conn, chunked, body_pos, preload_content, decode_content, **response_kw)\u001b[39m\n\u001b[32m    839\u001b[39m     new_e = ProtocolError(\u001b[33m\"\u001b[39m\u001b[33mConnection aborted.\u001b[39m\u001b[33m\"\u001b[39m, new_e)\n\u001b[32m--> \u001b[39m\u001b[32m841\u001b[39m retries = retries.increment(\n\u001b[32m    842\u001b[39m     method, url, error=new_e, _pool=\u001b[38;5;28mself\u001b[39m, _stacktrace=sys.exc_info()[\u001b[32m2\u001b[39m]\n\u001b[32m    843\u001b[39m )\n\u001b[32m    844\u001b[39m retries.sleep()\n",
      "\u001b[36mFile \u001b[39m\u001b[32mc:\\Users\\Joel Nic\\anaconda3\\envs\\apis\\Lib\\site-packages\\urllib3\\util\\retry.py:474\u001b[39m, in \u001b[36mRetry.increment\u001b[39m\u001b[34m(self, method, url, response, error, _pool, _stacktrace)\u001b[39m\n\u001b[32m    473\u001b[39m \u001b[38;5;28;01mif\u001b[39;00m read \u001b[38;5;129;01mis\u001b[39;00m \u001b[38;5;28;01mFalse\u001b[39;00m \u001b[38;5;129;01mor\u001b[39;00m method \u001b[38;5;129;01mis\u001b[39;00m \u001b[38;5;28;01mNone\u001b[39;00m \u001b[38;5;129;01mor\u001b[39;00m \u001b[38;5;129;01mnot\u001b[39;00m \u001b[38;5;28mself\u001b[39m._is_method_retryable(method):\n\u001b[32m--> \u001b[39m\u001b[32m474\u001b[39m     \u001b[38;5;28;01mraise\u001b[39;00m reraise(\u001b[38;5;28mtype\u001b[39m(error), error, _stacktrace)\n\u001b[32m    475\u001b[39m \u001b[38;5;28;01melif\u001b[39;00m read \u001b[38;5;129;01mis\u001b[39;00m \u001b[38;5;129;01mnot\u001b[39;00m \u001b[38;5;28;01mNone\u001b[39;00m:\n",
      "\u001b[36mFile \u001b[39m\u001b[32mc:\\Users\\Joel Nic\\anaconda3\\envs\\apis\\Lib\\site-packages\\urllib3\\util\\util.py:38\u001b[39m, in \u001b[36mreraise\u001b[39m\u001b[34m(tp, value, tb)\u001b[39m\n\u001b[32m     37\u001b[39m \u001b[38;5;28;01mif\u001b[39;00m value.__traceback__ \u001b[38;5;129;01mis\u001b[39;00m \u001b[38;5;129;01mnot\u001b[39;00m tb:\n\u001b[32m---> \u001b[39m\u001b[32m38\u001b[39m     \u001b[38;5;28;01mraise\u001b[39;00m value.with_traceback(tb)\n\u001b[32m     39\u001b[39m \u001b[38;5;28;01mraise\u001b[39;00m value\n",
      "\u001b[36mFile \u001b[39m\u001b[32mc:\\Users\\Joel Nic\\anaconda3\\envs\\apis\\Lib\\site-packages\\urllib3\\connectionpool.py:787\u001b[39m, in \u001b[36mHTTPConnectionPool.urlopen\u001b[39m\u001b[34m(self, method, url, body, headers, retries, redirect, assert_same_host, timeout, pool_timeout, release_conn, chunked, body_pos, preload_content, decode_content, **response_kw)\u001b[39m\n\u001b[32m    786\u001b[39m \u001b[38;5;66;03m# Make the request on the HTTPConnection object\u001b[39;00m\n\u001b[32m--> \u001b[39m\u001b[32m787\u001b[39m response = \u001b[38;5;28mself\u001b[39m._make_request(\n\u001b[32m    788\u001b[39m     conn,\n\u001b[32m    789\u001b[39m     method,\n\u001b[32m    790\u001b[39m     url,\n\u001b[32m    791\u001b[39m     timeout=timeout_obj,\n\u001b[32m    792\u001b[39m     body=body,\n\u001b[32m    793\u001b[39m     headers=headers,\n\u001b[32m    794\u001b[39m     chunked=chunked,\n\u001b[32m    795\u001b[39m     retries=retries,\n\u001b[32m    796\u001b[39m     response_conn=response_conn,\n\u001b[32m    797\u001b[39m     preload_content=preload_content,\n\u001b[32m    798\u001b[39m     decode_content=decode_content,\n\u001b[32m    799\u001b[39m     **response_kw,\n\u001b[32m    800\u001b[39m )\n\u001b[32m    802\u001b[39m \u001b[38;5;66;03m# Everything went great!\u001b[39;00m\n",
      "\u001b[36mFile \u001b[39m\u001b[32mc:\\Users\\Joel Nic\\anaconda3\\envs\\apis\\Lib\\site-packages\\urllib3\\connectionpool.py:534\u001b[39m, in \u001b[36mHTTPConnectionPool._make_request\u001b[39m\u001b[34m(self, conn, method, url, body, headers, retries, timeout, chunked, response_conn, preload_content, decode_content, enforce_content_length)\u001b[39m\n\u001b[32m    533\u001b[39m \u001b[38;5;28;01mtry\u001b[39;00m:\n\u001b[32m--> \u001b[39m\u001b[32m534\u001b[39m     response = conn.getresponse()\n\u001b[32m    535\u001b[39m \u001b[38;5;28;01mexcept\u001b[39;00m (BaseSSLError, \u001b[38;5;167;01mOSError\u001b[39;00m) \u001b[38;5;28;01mas\u001b[39;00m e:\n",
      "\u001b[36mFile \u001b[39m\u001b[32mc:\\Users\\Joel Nic\\anaconda3\\envs\\apis\\Lib\\site-packages\\urllib3\\connection.py:516\u001b[39m, in \u001b[36mHTTPConnection.getresponse\u001b[39m\u001b[34m(self)\u001b[39m\n\u001b[32m    515\u001b[39m \u001b[38;5;66;03m# Get the response from http.client.HTTPConnection\u001b[39;00m\n\u001b[32m--> \u001b[39m\u001b[32m516\u001b[39m httplib_response = \u001b[38;5;28msuper\u001b[39m().getresponse()\n\u001b[32m    518\u001b[39m \u001b[38;5;28;01mtry\u001b[39;00m:\n",
      "\u001b[36mFile \u001b[39m\u001b[32mc:\\Users\\Joel Nic\\anaconda3\\envs\\apis\\Lib\\http\\client.py:1395\u001b[39m, in \u001b[36mHTTPConnection.getresponse\u001b[39m\u001b[34m(self)\u001b[39m\n\u001b[32m   1394\u001b[39m \u001b[38;5;28;01mtry\u001b[39;00m:\n\u001b[32m-> \u001b[39m\u001b[32m1395\u001b[39m     response.begin()\n\u001b[32m   1396\u001b[39m \u001b[38;5;28;01mexcept\u001b[39;00m \u001b[38;5;167;01mConnectionError\u001b[39;00m:\n",
      "\u001b[36mFile \u001b[39m\u001b[32mc:\\Users\\Joel Nic\\anaconda3\\envs\\apis\\Lib\\http\\client.py:325\u001b[39m, in \u001b[36mHTTPResponse.begin\u001b[39m\u001b[34m(self)\u001b[39m\n\u001b[32m    324\u001b[39m \u001b[38;5;28;01mwhile\u001b[39;00m \u001b[38;5;28;01mTrue\u001b[39;00m:\n\u001b[32m--> \u001b[39m\u001b[32m325\u001b[39m     version, status, reason = \u001b[38;5;28mself\u001b[39m._read_status()\n\u001b[32m    326\u001b[39m     \u001b[38;5;28;01mif\u001b[39;00m status != CONTINUE:\n",
      "\u001b[36mFile \u001b[39m\u001b[32mc:\\Users\\Joel Nic\\anaconda3\\envs\\apis\\Lib\\http\\client.py:294\u001b[39m, in \u001b[36mHTTPResponse._read_status\u001b[39m\u001b[34m(self)\u001b[39m\n\u001b[32m    291\u001b[39m \u001b[38;5;28;01mif\u001b[39;00m \u001b[38;5;129;01mnot\u001b[39;00m line:\n\u001b[32m    292\u001b[39m     \u001b[38;5;66;03m# Presumably, the server closed the connection before\u001b[39;00m\n\u001b[32m    293\u001b[39m     \u001b[38;5;66;03m# sending a valid response.\u001b[39;00m\n\u001b[32m--> \u001b[39m\u001b[32m294\u001b[39m     \u001b[38;5;28;01mraise\u001b[39;00m RemoteDisconnected(\u001b[33m\"\u001b[39m\u001b[33mRemote end closed connection without\u001b[39m\u001b[33m\"\u001b[39m\n\u001b[32m    295\u001b[39m                              \u001b[33m\"\u001b[39m\u001b[33m response\u001b[39m\u001b[33m\"\u001b[39m)\n\u001b[32m    296\u001b[39m \u001b[38;5;28;01mtry\u001b[39;00m:\n",
      "\u001b[31mProtocolError\u001b[39m: ('Connection aborted.', RemoteDisconnected('Remote end closed connection without response'))",
      "\nDuring handling of the above exception, another exception occurred:\n",
      "\u001b[31mConnectionError\u001b[39m                           Traceback (most recent call last)",
      "\u001b[36mCell\u001b[39m\u001b[36m \u001b[39m\u001b[32mIn[102]\u001b[39m\u001b[32m, line 10\u001b[39m\n\u001b[32m      2\u001b[39m quicksearch_url = \u001b[33m\"\u001b[39m\u001b[38;5;132;01m{}\u001b[39;00m\u001b[33m/quick-search\u001b[39m\u001b[33m\"\u001b[39m.format(URL)\n\u001b[32m      5\u001b[39m request = {\n\u001b[32m      6\u001b[39m     \u001b[33m\"\u001b[39m\u001b[33mitem_types\u001b[39m\u001b[33m\"\u001b[39m: item_types,\n\u001b[32m      7\u001b[39m     \u001b[33m\"\u001b[39m\u001b[33mfilter\u001b[39m\u001b[33m\"\u001b[39m: and_filter\n\u001b[32m      8\u001b[39m }\n\u001b[32m---> \u001b[39m\u001b[32m10\u001b[39m res = session.post(quicksearch_url, json=request)\n\u001b[32m     12\u001b[39m geojson = res.json()\n\u001b[32m     14\u001b[39m p(geojson)\n",
      "\u001b[36mFile \u001b[39m\u001b[32mc:\\Users\\Joel Nic\\anaconda3\\envs\\apis\\Lib\\site-packages\\requests\\sessions.py:637\u001b[39m, in \u001b[36mSession.post\u001b[39m\u001b[34m(self, url, data, json, **kwargs)\u001b[39m\n\u001b[32m    626\u001b[39m \u001b[38;5;28;01mdef\u001b[39;00m\u001b[38;5;250m \u001b[39m\u001b[34mpost\u001b[39m(\u001b[38;5;28mself\u001b[39m, url, data=\u001b[38;5;28;01mNone\u001b[39;00m, json=\u001b[38;5;28;01mNone\u001b[39;00m, **kwargs):\n\u001b[32m    627\u001b[39m \u001b[38;5;250m    \u001b[39m\u001b[33mr\u001b[39m\u001b[33;03m\"\"\"Sends a POST request. Returns :class:`Response` object.\u001b[39;00m\n\u001b[32m    628\u001b[39m \n\u001b[32m    629\u001b[39m \u001b[33;03m    :param url: URL for the new :class:`Request` object.\u001b[39;00m\n\u001b[32m   (...)\u001b[39m\u001b[32m    634\u001b[39m \u001b[33;03m    :rtype: requests.Response\u001b[39;00m\n\u001b[32m    635\u001b[39m \u001b[33;03m    \"\"\"\u001b[39;00m\n\u001b[32m--> \u001b[39m\u001b[32m637\u001b[39m     \u001b[38;5;28;01mreturn\u001b[39;00m \u001b[38;5;28mself\u001b[39m.request(\u001b[33m\"\u001b[39m\u001b[33mPOST\u001b[39m\u001b[33m\"\u001b[39m, url, data=data, json=json, **kwargs)\n",
      "\u001b[36mFile \u001b[39m\u001b[32mc:\\Users\\Joel Nic\\anaconda3\\envs\\apis\\Lib\\site-packages\\requests\\sessions.py:589\u001b[39m, in \u001b[36mSession.request\u001b[39m\u001b[34m(self, method, url, params, data, headers, cookies, files, auth, timeout, allow_redirects, proxies, hooks, stream, verify, cert, json)\u001b[39m\n\u001b[32m    584\u001b[39m send_kwargs = {\n\u001b[32m    585\u001b[39m     \u001b[33m\"\u001b[39m\u001b[33mtimeout\u001b[39m\u001b[33m\"\u001b[39m: timeout,\n\u001b[32m    586\u001b[39m     \u001b[33m\"\u001b[39m\u001b[33mallow_redirects\u001b[39m\u001b[33m\"\u001b[39m: allow_redirects,\n\u001b[32m    587\u001b[39m }\n\u001b[32m    588\u001b[39m send_kwargs.update(settings)\n\u001b[32m--> \u001b[39m\u001b[32m589\u001b[39m resp = \u001b[38;5;28mself\u001b[39m.send(prep, **send_kwargs)\n\u001b[32m    591\u001b[39m \u001b[38;5;28;01mreturn\u001b[39;00m resp\n",
      "\u001b[36mFile \u001b[39m\u001b[32mc:\\Users\\Joel Nic\\anaconda3\\envs\\apis\\Lib\\site-packages\\requests\\sessions.py:703\u001b[39m, in \u001b[36mSession.send\u001b[39m\u001b[34m(self, request, **kwargs)\u001b[39m\n\u001b[32m    700\u001b[39m start = preferred_clock()\n\u001b[32m    702\u001b[39m \u001b[38;5;66;03m# Send the request\u001b[39;00m\n\u001b[32m--> \u001b[39m\u001b[32m703\u001b[39m r = adapter.send(request, **kwargs)\n\u001b[32m    705\u001b[39m \u001b[38;5;66;03m# Total elapsed time of the request (approximately)\u001b[39;00m\n\u001b[32m    706\u001b[39m elapsed = preferred_clock() - start\n",
      "\u001b[36mFile \u001b[39m\u001b[32mc:\\Users\\Joel Nic\\anaconda3\\envs\\apis\\Lib\\site-packages\\requests\\adapters.py:682\u001b[39m, in \u001b[36mHTTPAdapter.send\u001b[39m\u001b[34m(self, request, stream, timeout, verify, cert, proxies)\u001b[39m\n\u001b[32m    667\u001b[39m     resp = conn.urlopen(\n\u001b[32m    668\u001b[39m         method=request.method,\n\u001b[32m    669\u001b[39m         url=url,\n\u001b[32m   (...)\u001b[39m\u001b[32m    678\u001b[39m         chunked=chunked,\n\u001b[32m    679\u001b[39m     )\n\u001b[32m    681\u001b[39m \u001b[38;5;28;01mexcept\u001b[39;00m (ProtocolError, \u001b[38;5;167;01mOSError\u001b[39;00m) \u001b[38;5;28;01mas\u001b[39;00m err:\n\u001b[32m--> \u001b[39m\u001b[32m682\u001b[39m     \u001b[38;5;28;01mraise\u001b[39;00m \u001b[38;5;167;01mConnectionError\u001b[39;00m(err, request=request)\n\u001b[32m    684\u001b[39m \u001b[38;5;28;01mexcept\u001b[39;00m MaxRetryError \u001b[38;5;28;01mas\u001b[39;00m e:\n\u001b[32m    685\u001b[39m     \u001b[38;5;28;01mif\u001b[39;00m \u001b[38;5;28misinstance\u001b[39m(e.reason, ConnectTimeoutError):\n\u001b[32m    686\u001b[39m         \u001b[38;5;66;03m# TODO: Remove this in 3.0.0: see #2811\u001b[39;00m\n",
      "\u001b[31mConnectionError\u001b[39m: ('Connection aborted.', RemoteDisconnected('Remote end closed connection without response'))"
     ]
    }
   ],
   "source": [
    "item_types = ['PSScene']\n",
    "quicksearch_url = \"{}/quick-search\".format(URL)\n",
    "\n",
    "\n",
    "request = {\n",
    "    \"item_types\": item_types,\n",
    "    \"filter\": and_filter\n",
    "}\n",
    "\n",
    "res = session.post(quicksearch_url, json=request)\n",
    "\n",
    "geojson = res.json()\n",
    "\n",
    "p(geojson)"
   ]
  },
  {
   "cell_type": "markdown",
   "id": "f59be59a",
   "metadata": {},
   "source": [
    "# Find out which ones we have permissions for"
   ]
  },
  {
   "cell_type": "code",
   "execution_count": 70,
   "id": "3fd08a5d",
   "metadata": {},
   "outputs": [
    {
     "name": "stdout",
     "output_type": "stream",
     "text": [
      "20190424_013129_50_106d\n",
      "[\n",
      "  \"assets.basic_analytic_4b:download\",\n",
      "  \"assets.basic_analytic_4b_rpc:download\",\n",
      "  \"assets.basic_analytic_4b_xml:download\",\n",
      "  \"assets.basic_udm2:download\",\n",
      "  \"assets.ortho_analytic_4b:download\",\n",
      "  \"assets.ortho_analytic_4b_sr:download\",\n",
      "  \"assets.ortho_analytic_4b_xml:download\",\n",
      "  \"assets.ortho_udm2:download\",\n",
      "  \"assets.ortho_visual:download\"\n",
      "]\n"
     ]
    }
   ],
   "source": [
    "feature = features[0]\n",
    "\n",
    "print(feature['id'])\n",
    "p(feature['_permissions'])\n"
   ]
  },
  {
   "cell_type": "markdown",
   "id": "cca61fc9",
   "metadata": {},
   "source": [
    "# Donwload with orders API"
   ]
  },
  {
   "cell_type": "code",
   "execution_count": 103,
   "id": "1a2fe690",
   "metadata": {},
   "outputs": [
    {
     "data": {
      "text/plain": [
       "<Response [200]>"
      ]
     },
     "execution_count": 103,
     "metadata": {},
     "output_type": "execute_result"
    }
   ],
   "source": [
    "data_url =  'https://api.planet.com/data/v1'\n",
    "data_url_quick_search = f'{data_url}/quick-search'\n",
    "orders_url = 'https://api.planet.com/compute/ops/orders/v2'\n",
    "auth = requests.auth.HTTPBasicAuth(PLANET_API_KEY, '')\n",
    "response = requests.get(data_url, auth=auth)\n",
    "response"
   ]
  },
  {
   "cell_type": "code",
   "execution_count": 104,
   "id": "f91668e5",
   "metadata": {},
   "outputs": [
    {
     "name": "stdout",
     "output_type": "stream",
     "text": [
      "['20180129_232041_0f51', '20180129_232040_0f51', '20180123_232028_1012', '20180121_232048_1008', '20180121_232047_1008', '20180120_011314_0f2e', '20180119_231915_1034', '20180118_231905_102d', '20180118_231907_102d', '20180118_232244_0e14', '20180118_232243_0e14', '20180118_011229_1054', '20180118_011230_1054', '20180113_232146_100e', '20180106_232029_102e', '20180106_232028_102e', '20180105_231913_103e', '20180105_231912_103e', '20180104_231910_100c', '20180104_231909_100c', '20171231_231932_1029', '20171231_231933_1029', '20171228_231952_1038', '20171228_231951_1038', '20171224_011751_103f', '20171223_232011_1015', '20171223_232010_1015', '20171223_231752_1039', '20171222_231829_101f', '20171222_231830_101f', '20171215_231806_0f4e', '20171215_231805_0f4e', '20171213_231843_100c', '20171213_231844_100c', '20171213_231741_0f18', '20171213_231742_0f18', '20171212_232027_0e26', '20171212_232026_0e26', '20171211_231800_1004', '20171211_231758_1004', '20171210_231903_100a', '20171210_231902_100a', '20171208_231930_0e2f', '20171206_231755_1042', '20171206_231754_1042', '20171206_231903_1027', '20171206_231901_1027', '20171130_231735_1003', '20171130_231736_1003']\n"
     ]
    }
   ],
   "source": [
    "# get the ids that we are interested in\n",
    "item_type = \"PSScene\"\n",
    "\n",
    "search_request = {\n",
    "    \"item_types\": [item_type],\n",
    "    \"filter\": and_filter\n",
    "}\n",
    "\n",
    "search_result = requests.post(\n",
    "    data_url_quick_search,\n",
    "    auth = requests.auth.HTTPBasicAuth(PLANET_API_KEY, ''),\n",
    "    json=search_request\n",
    ")\n",
    "\n",
    "image_ids = [feature['id'] for feature in search_result.json()['features']]\n",
    "print(image_ids)"
   ]
  },
  {
   "cell_type": "code",
   "execution_count": 105,
   "id": "bc58d0e2",
   "metadata": {},
   "outputs": [
    {
     "name": "stdout",
     "output_type": "stream",
     "text": [
      "recent orders: ['tiwaipoint', 'austrailianarrabeen', 'austrailianarrabeen', 'austrailianarrabeen']\n"
     ]
    }
   ],
   "source": [
    "# authentificase orders the images for the ids\n",
    "\n",
    "auth = requests.auth.HTTPBasicAuth(PLANET_API_KEY, '')\n",
    "response = requests.get(orders_url, auth=auth)\n",
    "print(f\"recent orders: {[order['name'] for order in response.json()['orders']]}\")"
   ]
  },
  {
   "cell_type": "code",
   "execution_count": 106,
   "id": "229f9136",
   "metadata": {},
   "outputs": [],
   "source": [
    "sitename = 'australianarrabeen'\n",
    "\n",
    "products = [\n",
    "    {\n",
    "        'item_ids': image_ids,\n",
    "        'item_type': \"PSScene\",\n",
    "        \"product_bundle\":\"analytic_udm2\"\n",
    "    }\n",
    "]\n",
    "\n",
    "request = {\n",
    "    \"name\": sitename,\n",
    "    \"products\":products,\n",
    "    \"delivery\": {\"single_archive\": True, \"archive_type\": 'zip'}\n",
    "}"
   ]
  },
  {
   "cell_type": "code",
   "execution_count": 110,
   "id": "9cdc80f0",
   "metadata": {},
   "outputs": [],
   "source": [
    "headers = {'content-type': 'application/json'}\n",
    "\n",
    "def place_order(request, auth):\n",
    "    response = requests.post(orders_url, data=json.dumps(request), auth=auth, headers=headers)\n",
    "\n",
    "    if response.status_code in (200, 201):\n",
    "        print(\"✅ Order placed successfully\")\n",
    "        order_id = response.json()['id']\n",
    "        print(f\"Order ID: {order_id}\")\n",
    "        order_url = orders_url + '/' + order_id\n",
    "        return order_url\n",
    "    else:\n",
    "        print(\"❌ Failed to place order\")\n",
    "        print(f\"Status code: {response.status_code}\")\n",
    "        try:\n",
    "            print(\"Error details:\", json.dumps(response.json(), indent=2))\n",
    "        except Exception:\n",
    "            print(\"Raw response:\", response.text)\n",
    "        return None"
   ]
  },
  {
   "cell_type": "code",
   "execution_count": 111,
   "id": "74523606",
   "metadata": {},
   "outputs": [
    {
     "name": "stdout",
     "output_type": "stream",
     "text": [
      "❌ Failed to place order\n",
      "Status code: 400\n",
      "Error details: {\n",
      "  \"field\": {\n",
      "    \"Details\": [\n",
      "      {\n",
      "        \"message\": \"no access to assets: PSScene/20180118_231905_102d/[ortho_analytic_4b ortho_analytic_4b_xml]\"\n",
      "      }\n",
      "    ]\n",
      "  },\n",
      "  \"general\": [\n",
      "    {\n",
      "      \"message\": \"Unable to accept order\"\n",
      "    }\n",
      "  ]\n",
      "}\n"
     ]
    }
   ],
   "source": [
    "order_url = place_order(request, session.auth)"
   ]
  },
  {
   "cell_type": "code",
   "execution_count": null,
   "id": "2e6f9e9d",
   "metadata": {},
   "outputs": [],
   "source": [
    "def poll_for_success(order_url, auth, num_loops=30):\n",
    "    count = 0\n",
    "    while(count < num_loops):\n",
    "        count += 1\n",
    "        r = requests.get(order_url, auth=session.auth)\n",
    "        response = r.json()\n",
    "        state = response['state']\n",
    "        print(state)\n",
    "        end_states = ['success', 'failed', 'partial']\n",
    "        if state in end_states:\n",
    "            break\n",
    "        time.sleep(10)\n",
    "        \n",
    "poll_for_success(order_url, session.auth)"
   ]
  },
  {
   "cell_type": "code",
   "execution_count": null,
   "id": "abeb3a5d",
   "metadata": {},
   "outputs": [],
   "source": []
  },
  {
   "cell_type": "code",
   "execution_count": null,
   "id": "d139f52d",
   "metadata": {},
   "outputs": [],
   "source": []
  },
  {
   "cell_type": "code",
   "execution_count": 3,
   "id": "534aaf07",
   "metadata": {},
   "outputs": [],
   "source": [
    "def write_api_key_file(api_key:str, overwrite:bool=False, data_dir:str=os.path.join(os.getcwd(), 'data')):\n",
    "    sites_dir = os.path.join(data_dir, 'sites')\n",
    "    if not os.path.exists(sites_dir): os.mkdir(sites_dir)\n",
    "    \n",
    "    file_path = os.path.join(sites_dir, 'PlanetScope_API_key.txt')\n",
    "    if overwrite or not os.path.exists(file_path):\n",
    "        # if we want to overwrite or if it doesnt exsist we will need to make it\n",
    "        with open(file_path, \"w\") as file:\n",
    "            file.write(api_key)"
   ]
  }
 ],
 "metadata": {
  "kernelspec": {
   "display_name": "apis",
   "language": "python",
   "name": "python3"
  },
  "language_info": {
   "codemirror_mode": {
    "name": "ipython",
    "version": 3
   },
   "file_extension": ".py",
   "mimetype": "text/x-python",
   "name": "python",
   "nbconvert_exporter": "python",
   "pygments_lexer": "ipython3",
   "version": "3.11.11"
  }
 },
 "nbformat": 4,
 "nbformat_minor": 5
}
