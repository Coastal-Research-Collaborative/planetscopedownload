{
 "cells": [
  {
   "cell_type": "code",
   "execution_count": 1,
   "id": "334f95dd",
   "metadata": {},
   "outputs": [],
   "source": [
    "import os\n",
    "import json\n",
    "import time\n",
    "import requests\n",
    "\n",
    "data_dir = 'data'\n",
    "with open(os.path.join(data_dir, 'sites', \"PlanetScope_API_key.txt\"), \"r\") as file:\n",
    "   PLANET_API_KEY = file.read()  # Read entire file content"
   ]
  },
  {
   "cell_type": "markdown",
   "id": "e0dea0ea",
   "metadata": {},
   "source": [
    "# testing new Planetscope API key"
   ]
  },
  {
   "cell_type": "code",
   "execution_count": 2,
   "id": "f9a9702d",
   "metadata": {},
   "outputs": [],
   "source": [
    "# data API testing\n",
    "URL = 'https://api.planet.com/data/v1'\n",
    "\n",
    "# session\n",
    "session = requests.Session()\n",
    "\n",
    "session.auth = (PLANET_API_KEY, \"\")\n",
    "\n",
    "res = session.get(URL)\n",
    "res.status_code\n",
    "\n",
    "def p(data):\n",
    "    print(json.dumps(data, indent = 2))"
   ]
  },
  {
   "cell_type": "code",
   "execution_count": 3,
   "id": "5f07c8e2",
   "metadata": {},
   "outputs": [],
   "source": [
    "data_filter = {\n",
    "    \"type\": \"DateRangeFilter\",\n",
    "    \"field_name\": \"acquired\",\n",
    "    \"config\": {\n",
    "        \"gte\" : \"2017-11-30T00:00:00.000Z\",\n",
    "        'lte' : '2018-01-30T00:00:00.000Z'\n",
    "    }\n",
    "}"
   ]
  },
  {
   "cell_type": "code",
   "execution_count": 4,
   "id": "c349fd93",
   "metadata": {},
   "outputs": [],
   "source": [
    "geometry = {\n",
    "    \"type\": \"GeometryFilter\",\n",
    "    \"field_name\": \"geometry\",\n",
    "    \"config\": {\n",
    "        \"type\": 'Polygon',\n",
    "        \"coordinates\" :[\n",
    "            [\n",
    "                [\n",
    "                    -157.83007213445887,\n",
    "                    21.274378267011464\n",
    "                ],\n",
    "                [\n",
    "                    -157.82482573362574,\n",
    "                    21.274378267011464\n",
    "                ],\n",
    "                [\n",
    "                    -157.82482573362574,\n",
    "                    21.277267575166896\n",
    "                ],\n",
    "                [\n",
    "                    -157.83007213445887,\n",
    "                    21.277267575166896\n",
    "                ],\n",
    "                [\n",
    "                    -157.83007213445887,\n",
    "                    21.274378267011464\n",
    "                ]\n",
    "            ]\n",
    "\n",
    "            # [\n",
    "            #     [\n",
    "            #         151.29416017849223,\n",
    "            #         -33.740609827816364\n",
    "            #     ],\n",
    "            #     [\n",
    "            #         151.3173344643809,\n",
    "            #         -33.740609827816364\n",
    "            #     ],\n",
    "            #     [\n",
    "            #         151.3173344643809,\n",
    "            #         -33.69449020757253\n",
    "            #     ],\n",
    "            #     [\n",
    "            #         151.29416017849223,\n",
    "            #         -33.69449020757253\n",
    "            #     ],\n",
    "            #     [\n",
    "            #         151.29416017849223,\n",
    "            #         -33.740609827816364\n",
    "            #     ]\n",
    "            # ]\n",
    "            # [ [ -117.276854155369321, 32.943585976116182], [ -117.276216633074981, 32.87092817079742], [ -117.2430849, 32.8697473], [ -117.243384234917329, 32.943385346088036], [ -117.276854155369321, 32.943585976116182] ]\n",
    "        ]\n",
    "    }\n",
    "}"
   ]
  },
  {
   "cell_type": "code",
   "execution_count": 5,
   "id": "94eb3d5c",
   "metadata": {},
   "outputs": [],
   "source": [
    "cloud_filter = {\n",
    "    \"type\": \"RangeFilter\",\n",
    "    \"field_name\": \"cloud_cover\",\n",
    "    \"config\": {\n",
    "        'lt': 0.1\n",
    "    }\n",
    "}"
   ]
  },
  {
   "cell_type": "code",
   "execution_count": 6,
   "id": "2410f489",
   "metadata": {},
   "outputs": [],
   "source": [
    "and_filter = {\n",
    "    \"type\": 'AndFilter',\n",
    "    \"config\": [geometry, data_filter, cloud_filter]\n",
    "}\n",
    "\n",
    "# p(and_filter)"
   ]
  },
  {
   "cell_type": "markdown",
   "id": "f59be59a",
   "metadata": {},
   "source": [
    "# Find out which ones we have permissions for"
   ]
  },
  {
   "cell_type": "markdown",
   "id": "cca61fc9",
   "metadata": {},
   "source": [
    "# Donwload with orders API"
   ]
  },
  {
   "cell_type": "code",
   "execution_count": 7,
   "id": "1a2fe690",
   "metadata": {},
   "outputs": [
    {
     "name": "stdout",
     "output_type": "stream",
     "text": [
      "Planets data and orders API authentification successful\n"
     ]
    }
   ],
   "source": [
    "DATA_URL =  'https://api.planet.com/data/v1'\n",
    "DATA_QUICK_SEARCH_URL = f'{DATA_URL}/quick-search'\n",
    "ORDERS_URL = 'https://api.planet.com/compute/ops/orders/v2'\n",
    "ITEM_TYPE = \"PSScene\"\n",
    "\n",
    "\n",
    "\n",
    "def planet_auth(planet_api, data_url='https://api.planet.com/data/v1', orders_url='https://api.planet.com/compute/ops/orders/v2'):\n",
    "    auth = requests.auth.HTTPBasicAuth(planet_api, '')\n",
    "    data_response = requests.get(data_url, auth=auth)\n",
    "    orders_response = requests.get(orders_url, auth=auth)\n",
    "    if not data_response.status_code in [200, 201, 202]: raise RuntimeError(f\"Authentification failed for data api: {json.dumps(data_response.json(), indent=2)}\")\n",
    "    if not orders_response.status_code in [200, 201, 202]: raise RuntimeError(f\"Authentification failed for orders api: {json.dumps(orders_response.json(), indent=2)}\")\n",
    "    print('Planets data and orders API authentification successful')\n",
    "    return auth\n",
    "\n",
    "auth = planet_auth(PLANET_API_KEY)\n",
    "    "
   ]
  },
  {
   "cell_type": "code",
   "execution_count": 8,
   "id": "f91668e5",
   "metadata": {},
   "outputs": [
    {
     "name": "stdout",
     "output_type": "stream",
     "text": [
      "Planets data and orders API authentification successful\n"
     ]
    }
   ],
   "source": [
    "# get the ids that we are interested in\n",
    "\n",
    "def get_item_ids(and_filter:dict, auth_or_api_key:requests.auth.HTTPBasicAuth, data_quick_search_url='https://api.planet.com/data/v1/quick-search', item_type='PSScene'):\n",
    "\n",
    "    if isinstance(auth_or_api_key, str):\n",
    "        auth = planet_auth(PLANET_API_KEY) \n",
    "    elif isinstance(auth_or_api_key, requests.auth.HTTPBasicAuth):\n",
    "        auth = auth_or_api_key\n",
    "\n",
    "    desired_products = [\n",
    "        'assets.ortho_analytic_4b_sr:download', # toar image\n",
    "        'assets.ortho_udm2:download' # udm file\n",
    "    ]\n",
    "    \n",
    "\n",
    "    search_request = {\n",
    "        \"item_types\": [item_type],\n",
    "        \"filter\": and_filter\n",
    "    }\n",
    "\n",
    "\n",
    "    search_result = requests.post(\n",
    "        data_quick_search_url,\n",
    "        auth = auth,\n",
    "        json=search_request\n",
    "    )\n",
    "\n",
    "    if not search_result.status_code in (200, 201, 202):\n",
    "        print(\"❌ Failed to place order\")\n",
    "        print(f\"Status code: {search_result.status_code}\")\n",
    "        try:\n",
    "            print(\"Error details:\", json.dumps(search_result.json(), indent=2))\n",
    "        except Exception:\n",
    "            print(\"Raw response:\", search_result.text)\n",
    "        raise RuntimeError('See above issue in data API')\n",
    "\n",
    "    # print(feature['id'])\n",
    "    # p(feature['_permissions']) # NOTE maybe can tell us if we have access\n",
    "    features = search_result.json()['features']\n",
    "    image_ids = []\n",
    "    for feature in features:\n",
    "        valid = True\n",
    "        for product_type in desired_products:\n",
    "            if not product_type in feature['_permissions']:\n",
    "                # print(f'{product_type} missing permissions for {feature[\"id\"]}')\n",
    "                valid=False # NOTE if there inst permission to all the data we need skip this id\n",
    "        if valid: image_ids.append(feature['id'])\n",
    "    \n",
    "    return(image_ids)\n",
    "\n",
    "image_ids = get_item_ids(and_filter=and_filter, auth_or_api_key=PLANET_API_KEY)"
   ]
  },
  {
   "cell_type": "code",
   "execution_count": 11,
   "id": "229f9136",
   "metadata": {},
   "outputs": [],
   "source": [
    "sitename = 'australianarrabeen'\n",
    "\n",
    "products = [\n",
    "    {\n",
    "        'item_ids': image_ids,\n",
    "        'item_type': \"PSScene\",\n",
    "        \"product_bundle\":\"analytic_udm2\"\n",
    "    }\n",
    "]\n",
    "\n",
    "request = {\n",
    "    \"name\": sitename,\n",
    "    \"products\":products,\n",
    "    \"delivery\": {\"single_archive\": True, \"archive_type\": 'zip'}\n",
    "}"
   ]
  },
  {
   "cell_type": "code",
   "execution_count": 12,
   "id": "9cdc80f0",
   "metadata": {},
   "outputs": [],
   "source": [
    "headers = {'content-type': 'application/json'}\n",
    "\n",
    "def place_order(request, auth, orders_url='https://api.planet.com/compute/ops/orders/v2'):\n",
    "    response = requests.post(orders_url, data=json.dumps(request), auth=auth, headers=headers)\n",
    "\n",
    "    if response.status_code in (200, 201, 202):\n",
    "        print(\"✅ Order placed successfully\")\n",
    "        order_id = response.json()['id']\n",
    "        print(f\"Order ID: {order_id}\")\n",
    "        order_url = orders_url + '/' + order_id\n",
    "        return order_url\n",
    "    else:\n",
    "        print(\"❌ Failed to place order\")\n",
    "        print(f\"Status code: {response.status_code}\")\n",
    "        try:\n",
    "            print(\"Error details:\", json.dumps(response.json(), indent=2))\n",
    "        except Exception:\n",
    "            print(\"Raw response:\", response.text)\n",
    "        return None"
   ]
  },
  {
   "cell_type": "code",
   "execution_count": 13,
   "id": "74523606",
   "metadata": {},
   "outputs": [
    {
     "name": "stdout",
     "output_type": "stream",
     "text": [
      "✅ Order placed successfully\n",
      "Order ID: 9ef82dd0-c3f5-430d-849c-a7564cf735b4\n"
     ]
    }
   ],
   "source": [
    "order_url = place_order(request, session.auth)"
   ]
  },
  {
   "cell_type": "code",
   "execution_count": 155,
   "id": "2e6f9e9d",
   "metadata": {},
   "outputs": [
    {
     "name": "stdout",
     "output_type": "stream",
     "text": [
      "running\n",
      "running\n",
      "running\n"
     ]
    },
    {
     "ename": "KeyboardInterrupt",
     "evalue": "",
     "output_type": "error",
     "traceback": [
      "\u001b[31m---------------------------------------------------------------------------\u001b[39m",
      "\u001b[31mKeyboardInterrupt\u001b[39m                         Traceback (most recent call last)",
      "\u001b[36mCell\u001b[39m\u001b[36m \u001b[39m\u001b[32mIn[155]\u001b[39m\u001b[32m, line 14\u001b[39m\n\u001b[32m     11\u001b[39m             \u001b[38;5;28;01mbreak\u001b[39;00m\n\u001b[32m     12\u001b[39m         time.sleep(\u001b[32m10\u001b[39m)\n\u001b[32m---> \u001b[39m\u001b[32m14\u001b[39m poll_for_success(order_url, session.auth)\n",
      "\u001b[36mCell\u001b[39m\u001b[36m \u001b[39m\u001b[32mIn[155]\u001b[39m\u001b[32m, line 12\u001b[39m, in \u001b[36mpoll_for_success\u001b[39m\u001b[34m(order_url, auth, num_loops)\u001b[39m\n\u001b[32m     10\u001b[39m \u001b[38;5;28;01mif\u001b[39;00m state \u001b[38;5;129;01min\u001b[39;00m end_states:\n\u001b[32m     11\u001b[39m     \u001b[38;5;28;01mbreak\u001b[39;00m\n\u001b[32m---> \u001b[39m\u001b[32m12\u001b[39m time.sleep(\u001b[32m10\u001b[39m)\n",
      "\u001b[31mKeyboardInterrupt\u001b[39m: "
     ]
    }
   ],
   "source": [
    "def poll_for_success(order_url, auth, num_loops=30):\n",
    "    count = 0\n",
    "    while(count < num_loops):\n",
    "        count += 1\n",
    "        r = requests.get(order_url, auth=session.auth)\n",
    "        response = r.json()\n",
    "        state = response['state']\n",
    "        print(state)\n",
    "        end_states = ['success', 'failed', 'partial']\n",
    "        if state in end_states:\n",
    "            break\n",
    "        time.sleep(10)\n",
    "        \n",
    "poll_for_success(order_url, session.auth)"
   ]
  },
  {
   "cell_type": "code",
   "execution_count": null,
   "id": "abeb3a5d",
   "metadata": {},
   "outputs": [],
   "source": []
  },
  {
   "cell_type": "code",
   "execution_count": null,
   "id": "d139f52d",
   "metadata": {},
   "outputs": [],
   "source": []
  },
  {
   "cell_type": "code",
   "execution_count": 3,
   "id": "534aaf07",
   "metadata": {},
   "outputs": [],
   "source": [
    "def write_api_key_file(api_key:str, overwrite:bool=False, data_dir:str=os.path.join(os.getcwd(), 'data')):\n",
    "    sites_dir = os.path.join(data_dir, 'sites')\n",
    "    if not os.path.exists(sites_dir): os.mkdir(sites_dir)\n",
    "    \n",
    "    file_path = os.path.join(sites_dir, 'PlanetScope_API_key.txt')\n",
    "    if overwrite or not os.path.exists(file_path):\n",
    "        # if we want to overwrite or if it doesnt exsist we will need to make it\n",
    "        with open(file_path, \"w\") as file:\n",
    "            file.write(api_key)"
   ]
  }
 ],
 "metadata": {
  "kernelspec": {
   "display_name": "apis",
   "language": "python",
   "name": "python3"
  },
  "language_info": {
   "codemirror_mode": {
    "name": "ipython",
    "version": 3
   },
   "file_extension": ".py",
   "mimetype": "text/x-python",
   "name": "python",
   "nbconvert_exporter": "python",
   "pygments_lexer": "ipython3",
   "version": "3.11.11"
  }
 },
 "nbformat": 4,
 "nbformat_minor": 5
}
