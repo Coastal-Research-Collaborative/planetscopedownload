{
 "cells": [
  {
   "cell_type": "markdown",
   "id": "34eec10c",
   "metadata": {},
   "source": [
    "# Planet Scope API example useage\n",
    "This notebook shows how to use planetscopedownload by downloading the repository. To use the planetscopedownload package follow instructions in `README.md`"
   ]
  },
  {
   "cell_type": "code",
   "execution_count": 8,
   "id": "0676473f",
   "metadata": {},
   "outputs": [],
   "source": [
    "import os\n",
    "from glob import glob\n",
    "import importlib\n",
    "from planetscopedownload import PlanetScopeOrdersAPI\n",
    "importlib.reload(PlanetScopeOrdersAPI)\n",
    "\n",
    "data_dir = os.path.join('data')\n"
   ]
  },
  {
   "cell_type": "markdown",
   "id": "00f18016",
   "metadata": {},
   "source": [
    "# Write down API key\n",
    "PlanetScope requires an API Key\n",
    "\n",
    "In the following cell, information regarding your site (beach or stretch of coastline) should be entered which will be used to download applicable satellite imagery from Planet\n",
    "1. Downloading PlanetScope imagery requires an API key. If you do not have a Planet account, you can create one following these steps: <a href='https://www.planet.com/get-started/'>Get Started with Planet</a>. To access your API key log into <a href='https://www.planet.com/'>Planet</a> and navigaet to \\\"My Settings\\\" (see image below).\n",
    "2. First enter (lat, long) coordinates (`coords`) creating an AOI (this can be any polygon) around a beach or coastline stretch you are interested in.\n",
    "3. Next, create the `sitename` and `region` for the site\n",
    "4. Enter a start and end date. Imagery from between and during these dates will be downloaded for the given API. Date format: `YYYY-MM-DD`\n",
    " \n",
    "\n",
    "\n",
    "\n",
    "<img src=\"media/api_key_planet.JPG\" alt=\"API key in settings\" style=\"max-width:70%\">\n"
   ]
  },
  {
   "cell_type": "code",
   "execution_count": null,
   "id": "8a81df1b",
   "metadata": {},
   "outputs": [],
   "source": [
    "PlanetScopeOrdersAPI.write_api_key_file(api_key='Your PlanetScope API Key', overwrite=False) # this creates a text file that contains your API key and is referenced by PlaneScopeOrdersAPI, with overwrite=False this will not overwrite an existing API key file\n",
    "\n",
    "# create AOI coords (this can be a poly gone with any number of points)\n",
    "coords = [\n",
    "    [167.79532920868235,-46.884396310058854],\n",
    "    [167.73902427704172,-46.87172362206813],\n",
    "    [167.66555320770578,-46.93458827130592],\n",
    "    [167.66006004364328,-46.96318134527576],\n",
    "    [167.7156783297761,-46.98379637549978],\n",
    "    [167.77198326141672,-46.97442689234298],\n",
    "    [167.8090621188386,-46.958495002852075],\n",
    "    [167.83240806610422,-46.94162077128143],\n",
    "    [167.83034812958078,-46.92005151108455],\n",
    "    [167.79532920868235,-46.884396310058854]\n",
    "    ]\n",
    "\n",
    "region = 'newzealand'\n",
    "sitename = 'tiwaipoint'\n",
    "PlanetScopeOrdersAPI.create_site_dict_json_for_API(\n",
    "    site_name=sitename,\n",
    "    region = region,\n",
    "    aoi=coords,\n",
    "    start_date=\"2024-03-01\",\n",
    "    end_date=\"2024-04-01\",\n",
    "    data_dir=data_dir)"
   ]
  },
  {
   "cell_type": "markdown",
   "id": "2fae1d6a",
   "metadata": {},
   "source": [
    "# Download imagery\n",
    "Once the information above has been saved in `<data-dir>/sites/<sitename>.geojson` the following cell will download "
   ]
  },
  {
   "cell_type": "code",
   "execution_count": null,
   "id": "35383276",
   "metadata": {},
   "outputs": [
    {
     "ename": "FileNotFoundError",
     "evalue": "[WinError 3] The system cannot find the path specified: 'c:\\\\Users\\\\jnicolow\\\\Documents\\\\research\\\\CRC\\\\planetscopedownload\\\\sites'",
     "output_type": "error",
     "traceback": [
      "\u001b[1;31m---------------------------------------------------------------------------\u001b[0m",
      "\u001b[1;31mFileNotFoundError\u001b[0m                         Traceback (most recent call last)",
      "Cell \u001b[1;32mIn[10], line 4\u001b[0m\n\u001b[0;32m      1\u001b[0m \u001b[38;5;66;03m## downloading imagery takes some time as it's being requested and processed through Planet. For larger projects, leave for multiple hours or a day. \u001b[39;00m\n\u001b[0;32m      2\u001b[0m \u001b[38;5;66;03m## For testing purposes 60 days takes approximately 18 min\u001b[39;00m\n\u001b[1;32m----> 4\u001b[0m API \u001b[38;5;241m=\u001b[39m \u001b[43mPlanetScopeOrdersAPI\u001b[49m\u001b[38;5;241;43m.\u001b[39;49m\u001b[43mPlanetScopeAPIOrder\u001b[49m\u001b[43m(\u001b[49m\u001b[43mselectSites\u001b[49m\u001b[38;5;241;43m=\u001b[39;49m\u001b[38;5;28;43;01mTrue\u001b[39;49;00m\u001b[43m,\u001b[49m\u001b[43m \u001b[49m\u001b[43mprintPolling\u001b[49m\u001b[38;5;241;43m=\u001b[39;49m\u001b[38;5;28;43;01mTrue\u001b[39;49;00m\u001b[43m)\u001b[49m \u001b[38;5;66;03m# initalizing the class variable\u001b[39;00m\n\u001b[0;32m      5\u001b[0m API\u001b[38;5;241m.\u001b[39mget_all_data()\n",
      "File \u001b[1;32mc:\\Users\\jnicolow\\Documents\\research\\CRC\\planetscopedownload\\planetscopedownload\\PlanetScopeOrdersAPI.py:171\u001b[0m, in \u001b[0;36mPlanetScopeAPIOrder.__init__\u001b[1;34m(self, dictionaries, rootDir, dataRootDir, oneSite, selectSites, threading, printAll, printPolling)\u001b[0m\n\u001b[0;32m    169\u001b[0m         \u001b[38;5;28mself\u001b[39m\u001b[38;5;241m.\u001b[39mREGION_DICTS  \u001b[38;5;241m=\u001b[39m {\u001b[38;5;241m*\u001b[39m\u001b[38;5;241m*\u001b[39m\u001b[38;5;28mself\u001b[39m\u001b[38;5;241m.\u001b[39mREGION_DICTS , \u001b[38;5;28mstr\u001b[39m(os\u001b[38;5;241m.\u001b[39mpath\u001b[38;5;241m.\u001b[39mbasename(site_dict_fn))\u001b[38;5;241m.\u001b[39mreplace(\u001b[38;5;124m'\u001b[39m\u001b[38;5;124m_site_dict.json\u001b[39m\u001b[38;5;124m'\u001b[39m, \u001b[38;5;124m'\u001b[39m\u001b[38;5;124m'\u001b[39m) : data}\n\u001b[0;32m    170\u001b[0m \u001b[38;5;28;01melse\u001b[39;00m:\n\u001b[1;32m--> 171\u001b[0m     site_files \u001b[38;5;241m=\u001b[39m \u001b[43mos\u001b[49m\u001b[38;5;241;43m.\u001b[39;49m\u001b[43mlistdir\u001b[49m\u001b[43m(\u001b[49m\u001b[43mos\u001b[49m\u001b[38;5;241;43m.\u001b[39;49m\u001b[43mpath\u001b[49m\u001b[38;5;241;43m.\u001b[39;49m\u001b[43mjoin\u001b[49m\u001b[43m(\u001b[49m\u001b[38;5;28;43mself\u001b[39;49m\u001b[38;5;241;43m.\u001b[39;49m\u001b[43mROOT_DIR\u001b[49m\u001b[43m,\u001b[49m\u001b[43m \u001b[49m\u001b[38;5;124;43m'\u001b[39;49m\u001b[38;5;124;43msites\u001b[39;49m\u001b[38;5;124;43m'\u001b[39;49m\u001b[43m)\u001b[49m\u001b[43m)\u001b[49m\n\u001b[0;32m    172\u001b[0m     site_dict_file_string \u001b[38;5;241m=\u001b[39m \u001b[38;5;124m\"\u001b[39m\u001b[38;5;124m_site_dictionaries_PS_API\u001b[39m\u001b[38;5;124m\"\u001b[39m\n\u001b[0;32m    173\u001b[0m     \u001b[38;5;28mself\u001b[39m\u001b[38;5;241m.\u001b[39mREGION_DICTS  \u001b[38;5;241m=\u001b[39m {}\n",
      "\u001b[1;31mFileNotFoundError\u001b[0m: [WinError 3] The system cannot find the path specified: 'c:\\\\Users\\\\jnicolow\\\\Documents\\\\research\\\\CRC\\\\planetscopedownload\\\\sites'"
     ]
    }
   ],
   "source": [
    "## downloading imagery takes some time as it's being requested and processed through Planet. For larger projects, leave for multiple hours or a day. \n",
    "## For testing purposes 60 days takes approximately 18 min\n",
    "\n",
    "API = PlanetScopeOrdersAPI.PlanetScopeAPIOrder(selectSites=False, printPolling=True) # initalizing the class variable\n",
    "API.get_all_data()"
   ]
  }
 ],
 "metadata": {
  "kernelspec": {
   "display_name": "Python 3",
   "language": "python",
   "name": "python3"
  },
  "language_info": {
   "codemirror_mode": {
    "name": "ipython",
    "version": 3
   },
   "file_extension": ".py",
   "mimetype": "text/x-python",
   "name": "python",
   "nbconvert_exporter": "python",
   "pygments_lexer": "ipython3",
   "version": "3.9.17"
  }
 },
 "nbformat": 4,
 "nbformat_minor": 5
}
