{
 "cells": [
  {
   "cell_type": "markdown",
   "id": "34eec10c",
   "metadata": {},
   "source": [
    "# Planet Scope API example useage\n",
    "This notebook shows how to use planetscopedownload by downloading the repository. To use the planetscopedownload package follow instructions in `README.md`"
   ]
  },
  {
   "cell_type": "code",
   "execution_count": 1,
   "id": "0676473f",
   "metadata": {},
   "outputs": [],
   "source": [
    "import os\n",
    "from glob import glob\n",
    "import importlib\n",
    "from planetscopedownload import PlanetScopeOrdersAPI\n",
    "importlib.reload(PlanetScopeOrdersAPI)\n",
    "\n",
    "data_dir = os.path.join('data')\n"
   ]
  },
  {
   "cell_type": "markdown",
   "id": "00f18016",
   "metadata": {},
   "source": [
    "# Write down API key\n",
    "PlanetScope requires an API Key\n",
    "\n",
    "In the following cell, information regarding your site (beach or stretch of coastline) should be entered which will be used to download applicable satellite imagery from Planet\n",
    "1. Downloading PlanetScope imagery requires an API key. If you do not have a Planet account, you can create one following these steps: <a href='https://www.planet.com/get-started/'>Get Started with Planet</a>. To access your API key log into <a href='https://www.planet.com/'>Planet</a> and navigaet to \\\"My Settings\\\" (see image below).\n",
    "2. First enter (lat, long) coordinates (`coords`) creating an AOI (this can be any polygon) around a beach or coastline stretch you are interested in.\n",
    "3. Next, create the `sitename` and `region` for the site\n",
    "4. Enter a start and end date. Imagery from between and during these dates will be downloaded for the given API. Date format: `YYYY-MM-DD`\n",
    " \n",
    "\n",
    "\n",
    "\n",
    "<img src=\"media/api_key_planet.JPG\" alt=\"API key in settings\" style=\"max-width:70%\">\n"
   ]
  },
  {
   "cell_type": "code",
   "execution_count": 10,
   "id": "8a81df1b",
   "metadata": {},
   "outputs": [
    {
     "data": {
      "text/plain": [
       "{'item_type': 'PSScene',\n",
       " 'geometry_filter': {'type': 'GeometryFilter',\n",
       "  'field_name': 'geometry',\n",
       "  'config': {'type': 'Polygon',\n",
       "   'coordinates': [[[151.29416017849223, -33.740609827816364],\n",
       "     [151.3173344643809, -33.740609827816364],\n",
       "     [151.3173344643809, -33.69449020757253],\n",
       "     [151.29416017849223, -33.69449020757253],\n",
       "     [151.29416017849223, -33.740609827816364]]]}},\n",
       " 'date_range_filter': {'type': 'DateRangeFilter',\n",
       "  'field_name': 'acquired',\n",
       "  'config': {'gte': '2015-01-01T00:00:00.000Z',\n",
       "   'lte': '2019-12-10T00:00:00.000Z'}},\n",
       " 'cloud_cover_filter': {'type': 'RangeFilter',\n",
       "  'field_name': 'cloud_cover',\n",
       "  'config': {'lte': 0.3}}}"
      ]
     },
     "execution_count": 10,
     "metadata": {},
     "output_type": "execute_result"
    }
   ],
   "source": [
    "PlanetScopeOrdersAPI.write_api_key_file(api_key='Your PlanetScope API Key', overwrite=False) # this creates a text file that contains your API key and is referenced by PlaneScopeOrdersAPI, with overwrite=False this will not overwrite an existing API key file\n",
    "\n",
    "# create AOI coords (this can be a poly gone with any number of points)\n",
    "coords = [\n",
    "    [\n",
    "        151.29416017849223,\n",
    "        -33.740609827816364\n",
    "    ],\n",
    "    [\n",
    "        151.3173344643809,\n",
    "        -33.740609827816364\n",
    "    ],\n",
    "    [\n",
    "        151.3173344643809,\n",
    "        -33.69449020757253\n",
    "    ],\n",
    "    [\n",
    "        151.29416017849223,\n",
    "        -33.69449020757253\n",
    "    ],\n",
    "    [\n",
    "        151.29416017849223,\n",
    "        -33.740609827816364\n",
    "    ]\n",
    "    ]\n",
    "\n",
    "sitename = 'austrailianarrabeen'\n",
    "PlanetScopeOrdersAPI.create_site_dict_json_for_API(\n",
    "    sitename=sitename,\n",
    "    aoi=coords,\n",
    "    start_date=\"2015-01-01\",\n",
    "    end_date=\"2019-12-10\",\n",
    "    data_dir=data_dir)"
   ]
  },
  {
   "cell_type": "markdown",
   "id": "2fae1d6a",
   "metadata": {},
   "source": [
    "# Download imagery\n",
    "Once the information above has been saved in `<data-dir>/sites/<sitename>.geojson` the following cell will download "
   ]
  },
  {
   "cell_type": "code",
   "execution_count": 4,
   "id": "35383276",
   "metadata": {},
   "outputs": [
    {
     "name": "stdout",
     "output_type": "stream",
     "text": [
      "{'austrailianarrabeen': {'item_type': 'PSScene', 'geometry_filter': {'type': 'GeometryFilter', 'field_name': 'geometry', 'config': {'type': 'Polygon', 'coordinates': [[[151.29416017849223, -33.740609827816364], [151.3173344643809, -33.740609827816364], [151.3173344643809, -33.69449020757253], [151.29416017849223, -33.69449020757253], [151.29416017849223, -33.740609827816364]]]}}, 'date_range_filter': {'type': 'DateRangeFilter', 'field_name': 'acquired', 'config': {'gte': '2015-01-01T00:00:00.000Z', 'lte': '2019-12-10T00:00:00.000Z'}}, 'cloud_cover_filter': {'type': 'RangeFilter', 'field_name': 'cloud_cover', 'config': {'lte': 0.3}}}, 'tiwaipoint': {'item_type': 'PSScene', 'geometry_filter': {'type': 'GeometryFilter', 'field_name': 'geometry', 'config': {'type': 'Polygon', 'coordinates': [[[167.79532920868235, -46.884396310058854], [167.73902427704172, -46.87172362206813], [167.66555320770578, -46.93458827130592], [167.66006004364328, -46.96318134527576], [167.7156783297761, -46.98379637549978], [167.77198326141672, -46.97442689234298], [167.8090621188386, -46.958495002852075], [167.83240806610422, -46.94162077128143], [167.83034812958078, -46.92005151108455], [167.79532920868235, -46.884396310058854]]]}}, 'date_range_filter': {'type': 'DateRangeFilter', 'field_name': 'acquired', 'config': {'gte': '2024-03-01T00:00:00.000Z', 'lte': '2024-04-01T00:00:00.000Z'}}, 'cloud_cover_filter': {'type': 'RangeFilter', 'field_name': 'cloud_cover', 'config': {'lte': 0.3}}}}\n",
      "site name: austrailianarrabeen\n",
      "{'item_type': 'PSScene', 'geometry_filter': {'type': 'GeometryFilter', 'field_name': 'geometry', 'config': {'type': 'Polygon', 'coordinates': [[[151.29416017849223, -33.740609827816364], [151.3173344643809, -33.740609827816364], [151.3173344643809, -33.69449020757253], [151.29416017849223, -33.69449020757253], [151.29416017849223, -33.740609827816364]]]}}, 'date_range_filter': {'type': 'DateRangeFilter', 'field_name': 'acquired', 'config': {'gte': '2015-01-01T00:00:00.000Z', 'lte': '2019-12-10T00:00:00.000Z'}}, 'cloud_cover_filter': {'type': 'RangeFilter', 'field_name': 'cloud_cover', 'config': {'lte': 0.3}}}\n",
      "2015-01-01T00:00:00.000Z\n",
      "2019-12-10T00:00:00.000Z\n",
      "2015-01-01T00:00:00.000Z\n",
      "2015-07-20T00:00:00.000Z\n",
      "{'name': 'austrailianarrabeen', 'products': [{'item_ids': ['20150527_234531_0815', '20150527_234531_1_0815'], 'item_type': 'PSScene', 'product_bundle': 'analytic_udm2'}], 'tools': [{'clip': {'aoi': {'type': 'Polygon', 'coordinates': [[[151.29416017849223, -33.740609827816364], [151.3173344643809, -33.740609827816364], [151.3173344643809, -33.69449020757253], [151.29416017849223, -33.69449020757253], [151.29416017849223, -33.740609827816364]]]}}}, {'toar': {'scale_factor': 10000}}]}\n",
      "\n",
      "Placing order for product 1/1 for austrailianarrabeen\n",
      "Unexpected error placing order for product 1: 0\n",
      "Skipping inaccessible product: None - None\n"
     ]
    },
    {
     "name": "stderr",
     "output_type": "stream",
     "text": [
      "Traceback (most recent call last):\n",
      "  File \"c:\\Users\\jnicolow\\Documents\\research\\CRC\\planetscopedownload\\planetscopedownload\\PlanetScopeOrdersAPI.py\", line 352, in get_one_site_data_from_products\n",
      "    request_urls = [self.place_order(products)]\n",
      "  File \"c:\\Users\\jnicolow\\Documents\\research\\CRC\\planetscopedownload\\planetscopedownload\\PlanetScopeOrdersAPI.py\", line 597, in place_order\n",
      "    raise Exception(response.content)\n",
      "Exception: b'{\"field\":{\"Details\":[{\"message\":\"no access to assets: PSScene/20150527_234531_0815/[ortho_analytic_4b ortho_analytic_4b_xml]\"},{\"message\":\"no access to assets: PSScene/20150527_234531_1_0815/[ortho_analytic_4b ortho_analytic_4b_xml]\"}]},\"general\":[{\"message\":\"Unable to accept order\"}]}\\n'\n",
      "\n",
      "During handling of the above exception, another exception occurred:\n",
      "\n",
      "Traceback (most recent call last):\n",
      "  File \"c:\\Users\\jnicolow\\Documents\\research\\CRC\\planetscopedownload\\planetscopedownload\\PlanetScopeOrdersAPI.py\", line 367, in get_one_site_data_from_products\n",
      "    request_url = self.place_order(product_payload)\n",
      "  File \"c:\\Users\\jnicolow\\Documents\\research\\CRC\\planetscopedownload\\planetscopedownload\\PlanetScopeOrdersAPI.py\", line 574, in place_order\n",
      "    if len(request['products'][i]['item_ids']) < 1:\n",
      "KeyError: 0\n"
     ]
    },
    {
     "ename": "UnboundLocalError",
     "evalue": "local variable 'request_url' referenced before assignment",
     "output_type": "error",
     "traceback": [
      "\u001b[1;31m---------------------------------------------------------------------------\u001b[0m",
      "\u001b[1;31mUnboundLocalError\u001b[0m                         Traceback (most recent call last)",
      "Cell \u001b[1;32mIn[4], line 5\u001b[0m\n\u001b[0;32m      3\u001b[0m importlib\u001b[38;5;241m.\u001b[39mreload(PlanetScopeOrdersAPI)\n\u001b[0;32m      4\u001b[0m API \u001b[38;5;241m=\u001b[39m PlanetScopeOrdersAPI\u001b[38;5;241m.\u001b[39mPlanetScopeAPIOrder(selectSites\u001b[38;5;241m=\u001b[39m\u001b[38;5;28;01mFalse\u001b[39;00m, printPolling\u001b[38;5;241m=\u001b[39m\u001b[38;5;28;01mTrue\u001b[39;00m) \u001b[38;5;66;03m# initalizing the class variable\u001b[39;00m\n\u001b[1;32m----> 5\u001b[0m \u001b[43mAPI\u001b[49m\u001b[38;5;241;43m.\u001b[39;49m\u001b[43mget_all_data\u001b[49m\u001b[43m(\u001b[49m\u001b[43m)\u001b[49m\n",
      "File \u001b[1;32mc:\\Users\\jnicolow\\Documents\\research\\CRC\\planetscopedownload\\planetscopedownload\\PlanetScopeOrdersAPI.py:209\u001b[0m, in \u001b[0;36mPlanetScopeAPIOrder.get_all_data\u001b[1;34m(self)\u001b[0m\n\u001b[0;32m    207\u001b[0m \u001b[38;5;28;01melse\u001b[39;00m:\n\u001b[0;32m    208\u001b[0m     \u001b[38;5;28;01mfor\u001b[39;00m sitename, site_dict \u001b[38;5;129;01min\u001b[39;00m \u001b[38;5;28mself\u001b[39m\u001b[38;5;241m.\u001b[39mSITE_DICTS\u001b[38;5;241m.\u001b[39mitems():\n\u001b[1;32m--> 209\u001b[0m         \u001b[38;5;28;43mself\u001b[39;49m\u001b[38;5;241;43m.\u001b[39;49m\u001b[43mget_one_site_data\u001b[49m\u001b[43m(\u001b[49m\u001b[43msitename\u001b[49m\u001b[43m,\u001b[49m\u001b[43m \u001b[49m\u001b[43msite_dict\u001b[49m\u001b[43m)\u001b[49m\n",
      "File \u001b[1;32mc:\\Users\\jnicolow\\Documents\\research\\CRC\\planetscopedownload\\planetscopedownload\\PlanetScopeOrdersAPI.py:285\u001b[0m, in \u001b[0;36mPlanetScopeAPIOrder.get_one_site_data\u001b[1;34m(self, sitename, site_dict)\u001b[0m\n\u001b[0;32m    283\u001b[0m             \u001b[38;5;28;01mcontinue\u001b[39;00m\n\u001b[0;32m    284\u001b[0m         \u001b[38;5;66;03m# productsShell1 = products.copy()\u001b[39;00m\n\u001b[1;32m--> 285\u001b[0m         \u001b[38;5;28;43mself\u001b[39;49m\u001b[38;5;241;43m.\u001b[39;49m\u001b[43mget_one_site_data_from_products\u001b[49m\u001b[43m(\u001b[49m\u001b[43msitename\u001b[49m\u001b[43m,\u001b[49m\u001b[43m \u001b[49m\u001b[43msite_dict\u001b[49m\u001b[43m,\u001b[49m\u001b[43m \u001b[49m\u001b[43mproducts\u001b[49m\u001b[43m)\u001b[49m\n\u001b[0;32m    288\u001b[0m     \u001b[38;5;66;03m# print(len(allItemIds))\u001b[39;00m\n\u001b[0;32m    289\u001b[0m     \u001b[38;5;66;03m# print(len(allItemIds[0]))\u001b[39;00m\n\u001b[0;32m    290\u001b[0m     \u001b[38;5;66;03m# productsShell1['products'][0]['item_ids'] = allItemIds # \u001b[39;00m\n\u001b[1;32m   (...)\u001b[0m\n\u001b[0;32m    293\u001b[0m \n\u001b[0;32m    294\u001b[0m \u001b[38;5;28;01melse\u001b[39;00m:\n\u001b[0;32m    295\u001b[0m     products \u001b[38;5;241m=\u001b[39m \u001b[38;5;28mself\u001b[39m\u001b[38;5;241m.\u001b[39mbuild_clip_request_dict(site_dict, sitename)\n",
      "File \u001b[1;32mc:\\Users\\jnicolow\\Documents\\research\\CRC\\planetscopedownload\\planetscopedownload\\PlanetScopeOrdersAPI.py:382\u001b[0m, in \u001b[0;36mPlanetScopeAPIOrder.get_one_site_data_from_products\u001b[1;34m(self, sitename, site_dict, products, max_retries)\u001b[0m\n\u001b[0;32m    380\u001b[0m         \u001b[38;5;28mprint\u001b[39m(\u001b[38;5;124mf\u001b[39m\u001b[38;5;124m\"\u001b[39m\u001b[38;5;124mSkipping inaccessible product: \u001b[39m\u001b[38;5;132;01m{\u001b[39;00mproducts\u001b[38;5;241m.\u001b[39mget(\u001b[38;5;124m'\u001b[39m\u001b[38;5;124mitem_ids\u001b[39m\u001b[38;5;124m'\u001b[39m)\u001b[38;5;132;01m}\u001b[39;00m\u001b[38;5;124m - \u001b[39m\u001b[38;5;132;01m{\u001b[39;00mproducts\u001b[38;5;241m.\u001b[39mget(\u001b[38;5;124m'\u001b[39m\u001b[38;5;124mitem_type\u001b[39m\u001b[38;5;124m'\u001b[39m)\u001b[38;5;132;01m}\u001b[39;00m\u001b[38;5;124m\"\u001b[39m)\n\u001b[0;32m    381\u001b[0m         \u001b[38;5;66;03m# return str(e)\u001b[39;00m\n\u001b[1;32m--> 382\u001b[0m \u001b[38;5;28mprint\u001b[39m(\u001b[43mrequest_url\u001b[49m)\n\u001b[0;32m    383\u001b[0m \u001b[38;5;28;01mfor\u001b[39;00m request_url \u001b[38;5;129;01min\u001b[39;00m request_urls:\n\u001b[0;32m    384\u001b[0m     \u001b[38;5;28;01mif\u001b[39;00m request_url \u001b[38;5;129;01mis\u001b[39;00m \u001b[38;5;28;01mNone\u001b[39;00m: \n",
      "\u001b[1;31mUnboundLocalError\u001b[0m: local variable 'request_url' referenced before assignment"
     ]
    }
   ],
   "source": [
    "## downloading imagery takes some time as it's being requested and processed through Planet. For larger projects, leave for multiple hours or a day. \n",
    "## For testing purposes 60 days takes approximately 18 min\n",
    "importlib.reload(PlanetScopeOrdersAPI)\n",
    "API = PlanetScopeOrdersAPI.PlanetScopeAPIOrder(selectSites=False, printPolling=True) # initalizing the class variable\n",
    "API.get_all_data()"
   ]
  }
 ],
 "metadata": {
  "kernelspec": {
   "display_name": "sds",
   "language": "python",
   "name": "python3"
  },
  "language_info": {
   "codemirror_mode": {
    "name": "ipython",
    "version": 3
   },
   "file_extension": ".py",
   "mimetype": "text/x-python",
   "name": "python",
   "nbconvert_exporter": "python",
   "pygments_lexer": "ipython3",
   "version": "3.9.17"
  }
 },
 "nbformat": 4,
 "nbformat_minor": 5
}
