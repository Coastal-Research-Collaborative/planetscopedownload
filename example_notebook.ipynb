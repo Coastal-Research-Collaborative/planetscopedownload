{
 "cells": [
  {
   "cell_type": "markdown",
   "id": "34eec10c",
   "metadata": {},
   "source": []
  },
  {
   "cell_type": "code",
   "execution_count": 1,
   "id": "0676473f",
   "metadata": {},
   "outputs": [],
   "source": [
    "import os\n",
    "from glob import glob\n",
    "import importlib\n",
    "from planetscopedownload import PlanetScopeAPIOrder\n"
   ]
  },
  {
   "cell_type": "code",
   "execution_count": null,
   "id": "8a81df1b",
   "metadata": {},
   "outputs": [],
   "source": [
    "\n",
    "# create AOI coords (this can be a poly gone with any number of points)\n",
    "coords = [\n",
    "    [167.79532920868235,-46.884396310058854],\n",
    "    [167.73902427704172,-46.87172362206813],\n",
    "    [167.66555320770578,-46.93458827130592],\n",
    "    [167.66006004364328,-46.96318134527576],\n",
    "    [167.7156783297761,-46.98379637549978],\n",
    "    [167.77198326141672,-46.97442689234298],\n",
    "    [167.8090621188386,-46.958495002852075],\n",
    "    [167.83240806610422,-46.94162077128143],\n",
    "    [167.83034812958078,-46.92005151108455],\n",
    "    [167.79532920868235,-46.884396310058854]\n",
    "    ]\n",
    "\n",
    "region = 'newzealand'\n",
    "sitename = 'tiwaipoint'\n",
    "setup.create_site_dict_json_for_API(\n",
    "    site_name=sitename,\n",
    "    region = region,\n",
    "    aoi=coords,\n",
    "    start_date=\"2024-03-01\",\n",
    "    end_date=\"2024-04-01\")\n",
    "\n",
    "setup.write_api_key_file(api_key='Your PlanetScope API Key', overwrite=False) # this creates a text file that contains your API key and is referenced by PlaneScopeOrdersAPI, with overwrite=False this will not overwrite an existing API key file"
   ]
  }
 ],
 "metadata": {
  "kernelspec": {
   "display_name": "Python 3",
   "language": "python",
   "name": "python3"
  },
  "language_info": {
   "codemirror_mode": {
    "name": "ipython",
    "version": 3
   },
   "file_extension": ".py",
   "mimetype": "text/x-python",
   "name": "python",
   "nbconvert_exporter": "python",
   "pygments_lexer": "ipython3",
   "version": "3.9.17"
  }
 },
 "nbformat": 4,
 "nbformat_minor": 5
}
