{
 "cells": [
  {
   "cell_type": "markdown",
   "id": "34eec10c",
   "metadata": {},
   "source": [
    "# Planet Scope API example useage\n",
    "This notebook shows how to use planetscopedownload by downloading the repository. To use the planetscopedownload package follow instructions in `README.md`"
   ]
  },
  {
   "cell_type": "code",
   "execution_count": 2,
   "id": "0676473f",
   "metadata": {},
   "outputs": [],
   "source": [
    "import os\n",
    "from glob import glob\n",
    "import importlib\n",
    "from planetscopedownload import PlanetScopeOrdersAPI\n",
    "importlib.reload(PlanetScopeOrdersAPI)\n",
    "\n",
    "data_dir = os.path.join('data')\n"
   ]
  },
  {
   "cell_type": "markdown",
   "id": "00f18016",
   "metadata": {},
   "source": [
    "# Write down API key\n",
    "PlanetScope requires an API Key\n",
    "\n",
    "In the following cell, information regarding your site (beach or stretch of coastline) should be entered which will be used to download applicable satellite imagery from Planet\n",
    "1. Downloading PlanetScope imagery requires an API key. If you do not have a Planet account, you can create one following these steps: <a href='https://www.planet.com/get-started/'>Get Started with Planet</a>. To access your API key log into <a href='https://www.planet.com/'>Planet</a> and navigaet to \\\"My Settings\\\" (see image below).\n",
    "2. First enter (lat, long) coordinates (`coords`) creating an AOI (this can be any polygon) around a beach or coastline stretch you are interested in.\n",
    "3. Next, create the `sitename` and `region` for the site\n",
    "4. Enter a start and end date. Imagery from between and during these dates will be downloaded for the given API. Date format: `YYYY-MM-DD`\n",
    " \n",
    "\n",
    "\n",
    "\n",
    "<img src=\"media/api_key_planet.JPG\" alt=\"API key in settings\" style=\"max-width:70%\">\n"
   ]
  },
  {
   "cell_type": "code",
   "execution_count": 3,
   "id": "8a81df1b",
   "metadata": {},
   "outputs": [
    {
     "data": {
      "text/plain": [
       "{'item_type': 'PSScene',\n",
       " 'geometry_filter': {'type': 'GeometryFilter',\n",
       "  'field_name': 'geometry',\n",
       "  'config': {'type': 'Polygon',\n",
       "   'coordinates': [[[167.79532920868235, -46.884396310058854],\n",
       "     [167.73902427704172, -46.87172362206813],\n",
       "     [167.66555320770578, -46.93458827130592],\n",
       "     [167.66006004364328, -46.96318134527576],\n",
       "     [167.7156783297761, -46.98379637549978],\n",
       "     [167.77198326141672, -46.97442689234298],\n",
       "     [167.8090621188386, -46.958495002852075],\n",
       "     [167.83240806610422, -46.94162077128143],\n",
       "     [167.83034812958078, -46.92005151108455],\n",
       "     [167.79532920868235, -46.884396310058854]]]}},\n",
       " 'date_range_filter': {'type': 'DateRangeFilter',\n",
       "  'field_name': 'acquired',\n",
       "  'config': {'gte': '2024-03-01T00:00:00.000Z',\n",
       "   'lte': '2024-04-01T00:00:00.000Z'}},\n",
       " 'cloud_cover_filter': {'type': 'RangeFilter',\n",
       "  'field_name': 'cloud_cover',\n",
       "  'config': {'lte': 0.3}}}"
      ]
     },
     "execution_count": 3,
     "metadata": {},
     "output_type": "execute_result"
    }
   ],
   "source": [
    "PlanetScopeOrdersAPI.write_api_key_file(api_key='Your PlanetScope API Key', overwrite=False) # this creates a text file that contains your API key and is referenced by PlaneScopeOrdersAPI, with overwrite=False this will not overwrite an existing API key file\n",
    "\n",
    "# create AOI coords (this can be a poly gone with any number of points)\n",
    "coords = [\n",
    "    [167.79532920868235,-46.884396310058854],\n",
    "    [167.73902427704172,-46.87172362206813],\n",
    "    [167.66555320770578,-46.93458827130592],\n",
    "    [167.66006004364328,-46.96318134527576],\n",
    "    [167.7156783297761,-46.98379637549978],\n",
    "    [167.77198326141672,-46.97442689234298],\n",
    "    [167.8090621188386,-46.958495002852075],\n",
    "    [167.83240806610422,-46.94162077128143],\n",
    "    [167.83034812958078,-46.92005151108455],\n",
    "    [167.79532920868235,-46.884396310058854]\n",
    "    ]\n",
    "\n",
    "sitename = 'tiwaipoint'\n",
    "PlanetScopeOrdersAPI.create_site_dict_json_for_API(\n",
    "    sitename=sitename,\n",
    "    aoi=coords,\n",
    "    start_date=\"2024-03-01\",\n",
    "    end_date=\"2024-04-01\",\n",
    "    data_dir=data_dir)"
   ]
  },
  {
   "cell_type": "markdown",
   "id": "2fae1d6a",
   "metadata": {},
   "source": [
    "# Download imagery\n",
    "Once the information above has been saved in `<data-dir>/sites/<sitename>.geojson` the following cell will download "
   ]
  },
  {
   "cell_type": "code",
   "execution_count": null,
   "id": "35383276",
   "metadata": {},
   "outputs": [
    {
     "name": "stdout",
     "output_type": "stream",
     "text": [
      "{'tiwaipoint': {'item_type': 'PSScene', 'geometry_filter': {'type': 'GeometryFilter', 'field_name': 'geometry', 'config': {'type': 'Polygon', 'coordinates': [[[167.79532920868235, -46.884396310058854], [167.73902427704172, -46.87172362206813], [167.66555320770578, -46.93458827130592], [167.66006004364328, -46.96318134527576], [167.7156783297761, -46.98379637549978], [167.77198326141672, -46.97442689234298], [167.8090621188386, -46.958495002852075], [167.83240806610422, -46.94162077128143], [167.83034812958078, -46.92005151108455], [167.79532920868235, -46.884396310058854]]]}}, 'date_range_filter': {'type': 'DateRangeFilter', 'field_name': 'acquired', 'config': {'gte': '2024-03-01T00:00:00.000Z', 'lte': '2024-04-01T00:00:00.000Z'}}, 'cloud_cover_filter': {'type': 'RangeFilter', 'field_name': 'cloud_cover', 'config': {'lte': 0.3}}}}\n",
      "site name: tiwaipoint\n",
      "{'item_type': 'PSScene', 'geometry_filter': {'type': 'GeometryFilter', 'field_name': 'geometry', 'config': {'type': 'Polygon', 'coordinates': [[[167.79532920868235, -46.884396310058854], [167.73902427704172, -46.87172362206813], [167.66555320770578, -46.93458827130592], [167.66006004364328, -46.96318134527576], [167.7156783297761, -46.98379637549978], [167.77198326141672, -46.97442689234298], [167.8090621188386, -46.958495002852075], [167.83240806610422, -46.94162077128143], [167.83034812958078, -46.92005151108455], [167.79532920868235, -46.884396310058854]]]}}, 'date_range_filter': {'type': 'DateRangeFilter', 'field_name': 'acquired', 'config': {'gte': '2024-03-01T00:00:00.000Z', 'lte': '2024-04-01T00:00:00.000Z'}}, 'cloud_cover_filter': {'type': 'RangeFilter', 'field_name': 'cloud_cover', 'config': {'lte': 0.3}}}\n",
      "2024-03-01T00:00:00.000Z\n",
      "2024-04-01T00:00:00.000Z\n",
      "{'name': 'tiwaipoint', 'products': [{'item_ids': ['20240319_215657_55_24c0', '20240314_220816_16_2432', '20240314_220814_24_2432', '20240314_224858_30_24c6'], 'item_type': 'PSScene', 'product_bundle': 'analytic_udm2'}], 'tools': [{'clip': {'aoi': {'type': 'Polygon', 'coordinates': [[[167.79532920868235, -46.884396310058854], [167.73902427704172, -46.87172362206813], [167.66555320770578, -46.93458827130592], [167.66006004364328, -46.96318134527576], [167.7156783297761, -46.98379637549978], [167.77198326141672, -46.97442689234298], [167.8090621188386, -46.958495002852075], [167.83240806610422, -46.94162077128143], [167.83034812958078, -46.92005151108455], [167.79532920868235, -46.884396310058854]]]}}}, {'toar': {'scale_factor': 10000}}]}\n",
      "https://api.planet.com/compute/ops/orders/v2/c9579c40-3a2c-4bc6-b24c-19ca56698705\n",
      "https://api.planet.com/compute/ops/orders/v2/c9579c40-3a2c-4bc6-b24c-19ca56698705\n",
      "status code: 200\n",
      "tiwaipoint: queued\n",
      "status code: 200\n",
      "tiwaipoint: running\n",
      "status code: 200\n",
      "tiwaipoint: running\n",
      "status code: 200\n",
      "tiwaipoint: running\n",
      "status code: 200\n",
      "tiwaipoint: running\n",
      "status code: 200\n",
      "tiwaipoint: running\n",
      "status code: 200\n",
      "tiwaipoint: running\n",
      "status code: 200\n",
      "tiwaipoint: running\n",
      "status code: 200\n",
      "tiwaipoint: running\n",
      "status code: 200\n",
      "tiwaipoint: running\n",
      "status code: 200\n",
      "tiwaipoint: running\n",
      "status code: 200\n",
      "tiwaipoint: running\n",
      "status code: 200\n",
      "tiwaipoint: running\n",
      "status code: 200\n",
      "tiwaipoint: running\n",
      "status code: 200\n",
      "tiwaipoint: running\n",
      "status code: 200\n",
      "tiwaipoint: running\n",
      "status code: 200\n",
      "tiwaipoint: running\n",
      "status code: 200\n",
      "tiwaipoint: running\n",
      "status code: 200\n",
      "tiwaipoint: running\n",
      "status code: 200\n",
      "tiwaipoint: running\n",
      "status code: 200\n",
      "tiwaipoint: running\n",
      "status code: 200\n",
      "tiwaipoint: running\n",
      "status code: 200\n",
      "tiwaipoint: running\n",
      "status code: 200\n",
      "tiwaipoint: running\n"
     ]
    }
   ],
   "source": [
    "## downloading imagery takes some time as it's being requested and processed through Planet. For larger projects, leave for multiple hours or a day. \n",
    "## For testing purposes 60 days takes approximately 18 min\n",
    "importlib.reload(PlanetScopeOrdersAPI)\n",
    "API = PlanetScopeOrdersAPI.PlanetScopeAPIOrder(selectSites=False, printPolling=True) # initalizing the class variable\n",
    "API.get_all_data()"
   ]
  }
 ],
 "metadata": {
  "kernelspec": {
   "display_name": "sds",
   "language": "python",
   "name": "python3"
  },
  "language_info": {
   "codemirror_mode": {
    "name": "ipython",
    "version": 3
   },
   "file_extension": ".py",
   "mimetype": "text/x-python",
   "name": "python",
   "nbconvert_exporter": "python",
   "pygments_lexer": "ipython3",
   "version": "3.9.17"
  }
 },
 "nbformat": 4,
 "nbformat_minor": 5
}
