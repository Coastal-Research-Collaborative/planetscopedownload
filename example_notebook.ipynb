{
 "cells": [
  {
   "cell_type": "markdown",
   "id": "34eec10c",
   "metadata": {},
   "source": []
  }
 ],
 "metadata": {
  "language_info": {
   "name": "python"
  }
 },
 "nbformat": 4,
 "nbformat_minor": 5
}
