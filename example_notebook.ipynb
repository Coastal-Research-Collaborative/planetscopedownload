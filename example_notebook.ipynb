{
 "cells": [
  {
   "cell_type": "markdown",
   "id": "34eec10c",
   "metadata": {},
   "source": [
    "# Planet Scope API example useage\n",
    "This notebook shows how to use planetscopedownload by downloading the repository. To use the planetscopedownload package follow instructions in `README.md`"
   ]
  },
  {
   "cell_type": "code",
   "execution_count": 16,
   "id": "0676473f",
   "metadata": {},
   "outputs": [],
   "source": [
    "import os\n",
    "from glob import glob\n",
    "import importlib\n",
    "from planetscopedownload import PlanetScopeOrdersAPI\n",
    "importlib.reload(PlanetScopeOrdersAPI)\n",
    "\n",
    "data_dir = os.path.join('data')\n"
   ]
  },
  {
   "cell_type": "markdown",
   "id": "00f18016",
   "metadata": {},
   "source": [
    "# Write down API key\n",
    "PlanetScope requires an API Key\n",
    "\n",
    "In the following cell, information regarding your site (beach or stretch of coastline) should be entered which will be used to download applicable satellite imagery from Planet\n",
    "1. Downloading PlanetScope imagery requires an API key. If you do not have a Planet account, you can create one following these steps: <a href='https://www.planet.com/get-started/'>Get Started with Planet</a>. To access your API key log into <a href='https://www.planet.com/'>Planet</a> and navigaet to \\\"My Settings\\\" (see image below).\n",
    "2. First enter (lat, long) coordinates (`coords`) creating an AOI (this can be any polygon) around a beach or coastline stretch you are interested in.\n",
    "3. Next, create the `sitename` and `region` for the site\n",
    "4. Enter a start and end date. Imagery from between and during these dates will be downloaded for the given API. Date format: `YYYY-MM-DD`\n",
    " \n",
    "\n",
    "\n",
    "\n",
    "<img src=\"media/api_key_planet.JPG\" alt=\"API key in settings\" style=\"max-width:70%\">\n"
   ]
  },
  {
   "cell_type": "code",
   "execution_count": 17,
   "id": "8a81df1b",
   "metadata": {},
   "outputs": [
    {
     "data": {
      "text/plain": [
       "{'item_type': 'PSScene',\n",
       " 'geometry_filter': {'type': 'GeometryFilter',\n",
       "  'field_name': 'geometry',\n",
       "  'config': {'type': 'Polygon',\n",
       "   'coordinates': [[[167.79532920868235, -46.884396310058854],\n",
       "     [167.73902427704172, -46.87172362206813],\n",
       "     [167.66555320770578, -46.93458827130592],\n",
       "     [167.66006004364328, -46.96318134527576],\n",
       "     [167.7156783297761, -46.98379637549978],\n",
       "     [167.77198326141672, -46.97442689234298],\n",
       "     [167.8090621188386, -46.958495002852075],\n",
       "     [167.83240806610422, -46.94162077128143],\n",
       "     [167.83034812958078, -46.92005151108455],\n",
       "     [167.79532920868235, -46.884396310058854]]]}},\n",
       " 'date_range_filter': {'type': 'DateRangeFilter',\n",
       "  'field_name': 'acquired',\n",
       "  'config': {'gte': '2024-03-01T00:00:00.000Z',\n",
       "   'lte': '2024-04-01T00:00:00.000Z'}},\n",
       " 'cloud_cover_filter': {'type': 'RangeFilter',\n",
       "  'field_name': 'cloud_cover',\n",
       "  'config': {'lte': 0.3}}}"
      ]
     },
     "execution_count": 17,
     "metadata": {},
     "output_type": "execute_result"
    }
   ],
   "source": [
    "PlanetScopeOrdersAPI.write_api_key_file(api_key='Your PlanetScope API Key', overwrite=False) # this creates a text file that contains your API key and is referenced by PlaneScopeOrdersAPI, with overwrite=False this will not overwrite an existing API key file\n",
    "\n",
    "# create AOI coords (this can be a poly gone with any number of points)\n",
    "coords = [\n",
    "    [167.79532920868235,-46.884396310058854],\n",
    "    [167.73902427704172,-46.87172362206813],\n",
    "    [167.66555320770578,-46.93458827130592],\n",
    "    [167.66006004364328,-46.96318134527576],\n",
    "    [167.7156783297761,-46.98379637549978],\n",
    "    [167.77198326141672,-46.97442689234298],\n",
    "    [167.8090621188386,-46.958495002852075],\n",
    "    [167.83240806610422,-46.94162077128143],\n",
    "    [167.83034812958078,-46.92005151108455],\n",
    "    [167.79532920868235,-46.884396310058854]\n",
    "    ]\n",
    "\n",
    "sitename = 'tiwaipoint'\n",
    "PlanetScopeOrdersAPI.create_site_dict_json_for_API(\n",
    "    sitename=sitename,\n",
    "    aoi=coords,\n",
    "    start_date=\"2024-03-01\",\n",
    "    end_date=\"2024-04-01\",\n",
    "    data_dir=data_dir)"
   ]
  },
  {
   "cell_type": "markdown",
   "id": "2fae1d6a",
   "metadata": {},
   "source": [
    "# Download imagery\n",
    "Once the information above has been saved in `<data-dir>/sites/<sitename>.geojson` the following cell will download "
   ]
  },
  {
   "cell_type": "code",
   "execution_count": 18,
   "id": "35383276",
   "metadata": {},
   "outputs": [
    {
     "name": "stdout",
     "output_type": "stream",
     "text": [
      "{'tiwaipoint': {'item_type': 'PSScene', 'geometry_filter': {'type': 'GeometryFilter', 'field_name': 'geometry', 'config': {'type': 'Polygon', 'coordinates': [[[167.79532920868235, -46.884396310058854], [167.73902427704172, -46.87172362206813], [167.66555320770578, -46.93458827130592], [167.66006004364328, -46.96318134527576], [167.7156783297761, -46.98379637549978], [167.77198326141672, -46.97442689234298], [167.8090621188386, -46.958495002852075], [167.83240806610422, -46.94162077128143], [167.83034812958078, -46.92005151108455], [167.79532920868235, -46.884396310058854]]]}}, 'date_range_filter': {'type': 'DateRangeFilter', 'field_name': 'acquired', 'config': {'gte': '2024-03-01T00:00:00.000Z', 'lte': '2024-04-01T00:00:00.000Z'}}, 'cloud_cover_filter': {'type': 'RangeFilter', 'field_name': 'cloud_cover', 'config': {'lte': 0.3}}}}\n",
      "site name: item_type\n"
     ]
    },
    {
     "ename": "TypeError",
     "evalue": "string indices must be integers",
     "output_type": "error",
     "traceback": [
      "\u001b[1;31m---------------------------------------------------------------------------\u001b[0m",
      "\u001b[1;31mTypeError\u001b[0m                                 Traceback (most recent call last)",
      "Cell \u001b[1;32mIn[18], line 5\u001b[0m\n\u001b[0;32m      1\u001b[0m \u001b[38;5;66;03m## downloading imagery takes some time as it's being requested and processed through Planet. For larger projects, leave for multiple hours or a day. \u001b[39;00m\n\u001b[0;32m      2\u001b[0m \u001b[38;5;66;03m## For testing purposes 60 days takes approximately 18 min\u001b[39;00m\n\u001b[0;32m      4\u001b[0m API \u001b[38;5;241m=\u001b[39m PlanetScopeOrdersAPI\u001b[38;5;241m.\u001b[39mPlanetScopeAPIOrder(selectSites\u001b[38;5;241m=\u001b[39m\u001b[38;5;28;01mFalse\u001b[39;00m, printPolling\u001b[38;5;241m=\u001b[39m\u001b[38;5;28;01mTrue\u001b[39;00m) \u001b[38;5;66;03m# initalizing the class variable\u001b[39;00m\n\u001b[1;32m----> 5\u001b[0m \u001b[43mAPI\u001b[49m\u001b[38;5;241;43m.\u001b[39;49m\u001b[43mget_all_data\u001b[49m\u001b[43m(\u001b[49m\u001b[43m)\u001b[49m\n",
      "File \u001b[1;32mc:\\Users\\jnicolow\\Documents\\research\\CRC\\planetscopedownload\\planetscopedownload\\PlanetScopeOrdersAPI.py:212\u001b[0m, in \u001b[0;36mPlanetScopeAPIOrder.get_all_data\u001b[1;34m(self)\u001b[0m\n\u001b[0;32m    209\u001b[0m \u001b[38;5;28;01mfor\u001b[39;00m \u001b[38;5;28mdict\u001b[39m, site_dict \u001b[38;5;129;01min\u001b[39;00m \u001b[38;5;28mself\u001b[39m\u001b[38;5;241m.\u001b[39mSITE_DICTS\u001b[38;5;241m.\u001b[39mitems():\n\u001b[0;32m    210\u001b[0m     \u001b[38;5;66;03m# the first variable is a throwaway variable because we dont need it but it is the sitename\u001b[39;00m\n\u001b[0;32m    211\u001b[0m     \u001b[38;5;28;01mfor\u001b[39;00m sitename, site_dict \u001b[38;5;129;01min\u001b[39;00m site_dict\u001b[38;5;241m.\u001b[39mitems():\n\u001b[1;32m--> 212\u001b[0m         \u001b[38;5;28;43mself\u001b[39;49m\u001b[38;5;241;43m.\u001b[39;49m\u001b[43mget_one_site_data\u001b[49m\u001b[43m(\u001b[49m\u001b[43msitename\u001b[49m\u001b[43m,\u001b[49m\u001b[43m \u001b[49m\u001b[43msite_dict\u001b[49m\u001b[43m)\u001b[49m\n",
      "File \u001b[1;32mc:\\Users\\jnicolow\\Documents\\research\\CRC\\planetscopedownload\\planetscopedownload\\PlanetScopeOrdersAPI.py:255\u001b[0m, in \u001b[0;36mPlanetScopeAPIOrder.get_one_site_data\u001b[1;34m(self, sitename, site_dict)\u001b[0m\n\u001b[0;32m    253\u001b[0m maxDays \u001b[38;5;241m=\u001b[39m \u001b[38;5;241m200\u001b[39m\n\u001b[0;32m    254\u001b[0m dtFormat \u001b[38;5;241m=\u001b[39m \u001b[38;5;124m'\u001b[39m\u001b[38;5;124m%\u001b[39m\u001b[38;5;124mY-\u001b[39m\u001b[38;5;124m%\u001b[39m\u001b[38;5;124mm-\u001b[39m\u001b[38;5;132;01m%d\u001b[39;00m\u001b[38;5;124mT\u001b[39m\u001b[38;5;124m%\u001b[39m\u001b[38;5;124mH:\u001b[39m\u001b[38;5;124m%\u001b[39m\u001b[38;5;124mM:\u001b[39m\u001b[38;5;124m%\u001b[39m\u001b[38;5;124mS.\u001b[39m\u001b[38;5;132;01m%f\u001b[39;00m\u001b[38;5;124mZ\u001b[39m\u001b[38;5;124m'\u001b[39m \u001b[38;5;66;03m# e.g. '2022-08-22T00:00:00.000Z'\u001b[39;00m\n\u001b[1;32m--> 255\u001b[0m gte \u001b[38;5;241m=\u001b[39m dt\u001b[38;5;241m.\u001b[39mdatetime\u001b[38;5;241m.\u001b[39mstrptime(\u001b[43msite_dict\u001b[49m\u001b[43m[\u001b[49m\u001b[38;5;124;43m'\u001b[39;49m\u001b[38;5;124;43mdate_range_filter\u001b[39;49m\u001b[38;5;124;43m'\u001b[39;49m\u001b[43m]\u001b[49m[\u001b[38;5;124m'\u001b[39m\u001b[38;5;124mconfig\u001b[39m\u001b[38;5;124m'\u001b[39m][\u001b[38;5;124m'\u001b[39m\u001b[38;5;124mgte\u001b[39m\u001b[38;5;124m'\u001b[39m], dtFormat)\n\u001b[0;32m    256\u001b[0m lte \u001b[38;5;241m=\u001b[39m dt\u001b[38;5;241m.\u001b[39mdatetime\u001b[38;5;241m.\u001b[39mstrptime(site_dict[\u001b[38;5;124m'\u001b[39m\u001b[38;5;124mdate_range_filter\u001b[39m\u001b[38;5;124m'\u001b[39m][\u001b[38;5;124m'\u001b[39m\u001b[38;5;124mconfig\u001b[39m\u001b[38;5;124m'\u001b[39m][\u001b[38;5;124m'\u001b[39m\u001b[38;5;124mlte\u001b[39m\u001b[38;5;124m'\u001b[39m], dtFormat)\n\u001b[0;32m    257\u001b[0m timeRangeLength \u001b[38;5;241m=\u001b[39m lte\u001b[38;5;241m-\u001b[39mgte\n",
      "\u001b[1;31mTypeError\u001b[0m: string indices must be integers"
     ]
    }
   ],
   "source": [
    "## downloading imagery takes some time as it's being requested and processed through Planet. For larger projects, leave for multiple hours or a day. \n",
    "## For testing purposes 60 days takes approximately 18 min\n",
    "\n",
    "API = PlanetScopeOrdersAPI.PlanetScopeAPIOrder(selectSites=False, printPolling=True) # initalizing the class variable\n",
    "API.get_all_data()"
   ]
  }
 ],
 "metadata": {
  "kernelspec": {
   "display_name": "Python 3",
   "language": "python",
   "name": "python3"
  },
  "language_info": {
   "codemirror_mode": {
    "name": "ipython",
    "version": 3
   },
   "file_extension": ".py",
   "mimetype": "text/x-python",
   "name": "python",
   "nbconvert_exporter": "python",
   "pygments_lexer": "ipython3",
   "version": "3.9.17"
  }
 },
 "nbformat": 4,
 "nbformat_minor": 5
}
