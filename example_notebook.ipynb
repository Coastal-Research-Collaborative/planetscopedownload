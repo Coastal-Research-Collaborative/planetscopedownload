{
 "cells": [
  {
   "cell_type": "markdown",
   "id": "34eec10c",
   "metadata": {},
   "source": [
    "# Planet Scope API example useage\n",
    "This notebook shows how to use planetscopedownload by downloading the repository. To use the planetscopedownload package follow instructions in `README.md`"
   ]
  },
  {
   "cell_type": "code",
   "execution_count": 8,
   "id": "0676473f",
   "metadata": {},
   "outputs": [],
   "source": [
    "import os\n",
    "from glob import glob\n",
    "import importlib\n",
    "from planetscopedownload import PlanetScopeOrdersAPI\n",
    "importlib.reload(PlanetScopeOrdersAPI)\n",
    "\n",
    "data_dir = os.path.join('data')\n"
   ]
  },
  {
   "cell_type": "markdown",
   "id": "00f18016",
   "metadata": {},
   "source": [
    "# Write down API key\n",
    "PlanetScope requires an API Key\n",
    "\n",
    "In the following cell, information regarding your site (beach or stretch of coastline) should be entered which will be used to download applicable satellite imagery from Planet\n",
    "1. Downloading PlanetScope imagery requires an API key. If you do not have a Planet account, you can create one following these steps: <a href='https://www.planet.com/get-started/'>Get Started with Planet</a>\n",
    "2. First enter (lat, long) coordinates (`coords`) creating an AOI (this can be any polygon) around a beach or coastline stretch you are interested in.\n",
    "3. Next, create the `sitename` and `region` for the site\n",
    "4. Enter a start and end date. Imagery from between and during these dates will be downloaded for the given API. Date format: `YYYY-MM-DD`\n",
    " \n",
    "\n",
    "To access your API key log into <a href='https://www.planet.com/'>Planet</a> and navigaet to \\\"My Settings\\\" (see image below).\n",
    "<img src=\\\"media\\\\api_key_planet.JPG\\\" alt=\\\"API key in settings\\\" style=\\\"max-width:70%\\\">\n"
   ]
  },
  {
   "cell_type": "code",
   "execution_count": null,
   "id": "8a81df1b",
   "metadata": {},
   "outputs": [],
   "source": [
    "PlanetScopeOrdersAPI.write_api_key_file(api_key='Your PlanetScope API Key', overwrite=False) # this creates a text file that contains your API key and is referenced by PlaneScopeOrdersAPI, with overwrite=False this will not overwrite an existing API key file\n",
    "\n",
    "# create AOI coords (this can be a poly gone with any number of points)\n",
    "coords = [\n",
    "    [167.79532920868235,-46.884396310058854],\n",
    "    [167.73902427704172,-46.87172362206813],\n",
    "    [167.66555320770578,-46.93458827130592],\n",
    "    [167.66006004364328,-46.96318134527576],\n",
    "    [167.7156783297761,-46.98379637549978],\n",
    "    [167.77198326141672,-46.97442689234298],\n",
    "    [167.8090621188386,-46.958495002852075],\n",
    "    [167.83240806610422,-46.94162077128143],\n",
    "    [167.83034812958078,-46.92005151108455],\n",
    "    [167.79532920868235,-46.884396310058854]\n",
    "    ]\n",
    "\n",
    "region = 'newzealand'\n",
    "sitename = 'tiwaipoint'\n",
    "PlanetScopeOrdersAPI.create_site_dict_json_for_API(\n",
    "    site_name=sitename,\n",
    "    region = region,\n",
    "    aoi=coords,\n",
    "    start_date=\"2024-03-01\",\n",
    "    end_date=\"2024-04-01\",\n",
    "    data_dir=data_dir)"
   ]
  }
 ],
 "metadata": {
  "kernelspec": {
   "display_name": "Python 3",
   "language": "python",
   "name": "python3"
  },
  "language_info": {
   "codemirror_mode": {
    "name": "ipython",
    "version": 3
   },
   "file_extension": ".py",
   "mimetype": "text/x-python",
   "name": "python",
   "nbconvert_exporter": "python",
   "pygments_lexer": "ipython3",
   "version": "3.9.17"
  }
 },
 "nbformat": 4,
 "nbformat_minor": 5
}
