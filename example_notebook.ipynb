{
 "cells": [
  {
   "cell_type": "code",
   "execution_count": null,
   "id": "334f95dd",
   "metadata": {},
   "outputs": [],
   "source": [
    "import os\n",
    "import importlib\n",
    "from planetscopedownload import planetscopedownload\n",
    "importlib.reload(planetscopedownload)\n",
    "\n",
    "data_dir = 'data'\n",
    "api_path = os.path.join(data_dir, 'planetscope', \"PlanetScope_API_key.txt\")\n",
    "PLANET_API_KEY = planetscopedownload.load_api_key(api_path)"
   ]
  },
  {
   "cell_type": "markdown",
   "id": "2d8ec4bb",
   "metadata": {},
   "source": [
    "# Set up framework"
   ]
  },
  {
   "cell_type": "code",
   "execution_count": null,
   "id": "bb0f4626",
   "metadata": {},
   "outputs": [],
   "source": [
    "# api key\n",
    "\n",
    "planetscopedownload.write_api_key_file(api_key='enter your api key here', data_dir=data_dir)\n",
    "\n",
    "api_path = os.path.join(data_dir, 'planetscope', \"PlanetScope_API_key.txt\")    \n",
    "PLANET_API_KEY = planetscopedownload.load_api_key(api_path)\n",
    "\n",
    "\n",
    "# set up site information\n",
    "sitename = 'georgiajekyllisland'\n",
    "polygon = [\n",
    "    [-81.41396967622494, 31.035661672924554],\n",
    "    [-81.40667406770443, 31.035661672924554],\n",
    "    [-81.40667406770443, 31.053126706868298],\n",
    "    [-81.41396967622494, 31.053126706868298],\n",
    "    [-81.41396967622494, 31.035661672924554]\n",
    "]\n",
    "\n",
    "\n",
    "start_date = '2019-01-01'\n",
    "end_date = '2019-01-15'"
   ]
  },
  {
   "cell_type": "markdown",
   "id": "33dfb604",
   "metadata": {},
   "source": [
    "# Download imagery"
   ]
  },
  {
   "cell_type": "code",
   "execution_count": null,
   "id": "f91668e5",
   "metadata": {},
   "outputs": [
    {
     "name": "stdout",
     "output_type": "stream",
     "text": [
      "polygon=[[-157.830072, 21.274378], [-157.824826, 21.274378], [-157.824826, 21.277268], [-157.830072, 21.277268], [-157.830072, 21.274378]]\n",
      "Planets data and orders API authentification successful\n",
      "✅ Order placed successfully\n",
      "Order ID: 8ac9706d-6593-47d0-b49f-2336d0505721\n",
      "queued\n",
      "running\n",
      "running\n",
      "running\n",
      "running\n",
      "running\n",
      "running\n",
      "running\n",
      "running\n",
      "running\n",
      "running\n",
      "running\n",
      "running\n",
      "running\n",
      "running\n",
      "running\n",
      "running\n",
      "running\n",
      "running\n",
      "running\n",
      "running\n",
      "running\n",
      "running\n",
      "running\n",
      "running\n",
      "success\n",
      "success\n",
      "17 items to download\n",
      "downloading 8ac9706d-6593-47d0-b49f-2336d0505721/PSScene/20190108_202719_0f21_metadata.json to C:\\Users\\Joel Nic\\Documents\\college\\research\\CRC\\SDS_performance_analysis\\data\\sat_images\\hawaiiwaikiki\\PS\\20190108_202719_0f21_metadata.json\n",
      "downloading 8ac9706d-6593-47d0-b49f-2336d0505721/PSScene/20190108_202719_0f21_3B_udm2_clip.tif to C:\\Users\\Joel Nic\\Documents\\college\\research\\CRC\\SDS_performance_analysis\\data\\sat_images\\hawaiiwaikiki\\PS\\20190108_202719_0f21_3B_udm2_clip.tif\n",
      "downloading 8ac9706d-6593-47d0-b49f-2336d0505721/PSScene/20190108_202719_0f21_3B_AnalyticMS_metadata_clip.xml to C:\\Users\\Joel Nic\\Documents\\college\\research\\CRC\\SDS_performance_analysis\\data\\sat_images\\hawaiiwaikiki\\PS\\20190108_202719_0f21_3B_AnalyticMS_metadata_clip.xml\n",
      "downloading 8ac9706d-6593-47d0-b49f-2336d0505721/PSScene/20190108_202719_0f21_3B_AnalyticMS_toar_clip.tif to C:\\Users\\Joel Nic\\Documents\\college\\research\\CRC\\SDS_performance_analysis\\data\\sat_images\\hawaiiwaikiki\\PS\\20190108_202719_0f21_3B_AnalyticMS_toar_clip.tif\n",
      "downloading 8ac9706d-6593-47d0-b49f-2336d0505721/PSScene/20190111_203602_0e2f_3B_AnalyticMS_toar_clip.tif to C:\\Users\\Joel Nic\\Documents\\college\\research\\CRC\\SDS_performance_analysis\\data\\sat_images\\hawaiiwaikiki\\PS\\20190111_203602_0e2f_3B_AnalyticMS_toar_clip.tif\n",
      "downloading 8ac9706d-6593-47d0-b49f-2336d0505721/PSScene/20190111_203602_0e2f_metadata.json to C:\\Users\\Joel Nic\\Documents\\college\\research\\CRC\\SDS_performance_analysis\\data\\sat_images\\hawaiiwaikiki\\PS\\20190111_203602_0e2f_metadata.json\n",
      "downloading 8ac9706d-6593-47d0-b49f-2336d0505721/PSScene/20190111_203602_0e2f_3B_AnalyticMS_metadata_clip.xml to C:\\Users\\Joel Nic\\Documents\\college\\research\\CRC\\SDS_performance_analysis\\data\\sat_images\\hawaiiwaikiki\\PS\\20190111_203602_0e2f_3B_AnalyticMS_metadata_clip.xml\n",
      "downloading 8ac9706d-6593-47d0-b49f-2336d0505721/PSScene/20190111_203602_0e2f_3B_udm2_clip.tif to C:\\Users\\Joel Nic\\Documents\\college\\research\\CRC\\SDS_performance_analysis\\data\\sat_images\\hawaiiwaikiki\\PS\\20190111_203602_0e2f_3B_udm2_clip.tif\n",
      "downloading 8ac9706d-6593-47d0-b49f-2336d0505721/PSScene/20190111_203601_0e2f_metadata.json to C:\\Users\\Joel Nic\\Documents\\college\\research\\CRC\\SDS_performance_analysis\\data\\sat_images\\hawaiiwaikiki\\PS\\20190111_203601_0e2f_metadata.json\n",
      "downloading 8ac9706d-6593-47d0-b49f-2336d0505721/PSScene/20190111_203601_0e2f_3B_udm2_clip.tif to C:\\Users\\Joel Nic\\Documents\\college\\research\\CRC\\SDS_performance_analysis\\data\\sat_images\\hawaiiwaikiki\\PS\\20190111_203601_0e2f_3B_udm2_clip.tif\n",
      "downloading 8ac9706d-6593-47d0-b49f-2336d0505721/PSScene/20190111_203601_0e2f_3B_AnalyticMS_metadata_clip.xml to C:\\Users\\Joel Nic\\Documents\\college\\research\\CRC\\SDS_performance_analysis\\data\\sat_images\\hawaiiwaikiki\\PS\\20190111_203601_0e2f_3B_AnalyticMS_metadata_clip.xml\n",
      "downloading 8ac9706d-6593-47d0-b49f-2336d0505721/PSScene/20190111_203601_0e2f_3B_AnalyticMS_toar_clip.tif to C:\\Users\\Joel Nic\\Documents\\college\\research\\CRC\\SDS_performance_analysis\\data\\sat_images\\hawaiiwaikiki\\PS\\20190111_203601_0e2f_3B_AnalyticMS_toar_clip.tif\n",
      "downloading 8ac9706d-6593-47d0-b49f-2336d0505721/PSScene/20190105_204041_1015_3B_AnalyticMS_metadata_clip.xml to C:\\Users\\Joel Nic\\Documents\\college\\research\\CRC\\SDS_performance_analysis\\data\\sat_images\\hawaiiwaikiki\\PS\\20190105_204041_1015_3B_AnalyticMS_metadata_clip.xml\n",
      "downloading 8ac9706d-6593-47d0-b49f-2336d0505721/PSScene/20190105_204041_1015_metadata.json to C:\\Users\\Joel Nic\\Documents\\college\\research\\CRC\\SDS_performance_analysis\\data\\sat_images\\hawaiiwaikiki\\PS\\20190105_204041_1015_metadata.json\n",
      "downloading 8ac9706d-6593-47d0-b49f-2336d0505721/PSScene/20190105_204041_1015_3B_udm2_clip.tif to C:\\Users\\Joel Nic\\Documents\\college\\research\\CRC\\SDS_performance_analysis\\data\\sat_images\\hawaiiwaikiki\\PS\\20190105_204041_1015_3B_udm2_clip.tif\n",
      "downloading 8ac9706d-6593-47d0-b49f-2336d0505721/PSScene/20190105_204041_1015_3B_AnalyticMS_toar_clip.tif to C:\\Users\\Joel Nic\\Documents\\college\\research\\CRC\\SDS_performance_analysis\\data\\sat_images\\hawaiiwaikiki\\PS\\20190105_204041_1015_3B_AnalyticMS_toar_clip.tif\n",
      "downloading 8ac9706d-6593-47d0-b49f-2336d0505721/manifest.json to C:\\Users\\Joel Nic\\Documents\\college\\research\\CRC\\SDS_performance_analysis\\data\\sat_images\\hawaiiwaikiki\\PS\\manifest.json\n"
     ]
    }
   ],
   "source": [
    "planetscopedownload.retrieve_imagery(\n",
    "    sitename='hawaiiwaikiki', \n",
    "    start_date=start_date, \n",
    "    end_date=end_date, # inclusive\n",
    "    planet_api_key=PLANET_API_KEY,\n",
    "    data_dir=data_dir,\n",
    "    polygon=None # Note the polygon can be passed here directly if you dont want to save a polygon geojson\n",
    "    )"
   ]
  }
 ],
 "metadata": {
  "kernelspec": {
   "display_name": "apis",
   "language": "python",
   "name": "python3"
  },
  "language_info": {
   "codemirror_mode": {
    "name": "ipython",
    "version": 3
   },
   "file_extension": ".py",
   "mimetype": "text/x-python",
   "name": "python",
   "nbconvert_exporter": "python",
   "pygments_lexer": "ipython3",
   "version": "3.11.11"
  }
 },
 "nbformat": 4,
 "nbformat_minor": 5
}
