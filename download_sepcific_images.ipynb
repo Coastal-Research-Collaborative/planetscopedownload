{
 "cells": [
  {
   "cell_type": "code",
   "execution_count": null,
   "id": "b2ab0985",
   "metadata": {},
   "outputs": [],
   "source": [
    "import os\n",
    "import importlib\n",
    "from planetscopedownload import planetscopedownload\n",
    "importlib.reload(planetscopedownload)"
   ]
  },
  {
   "cell_type": "markdown",
   "id": "4eabdf71",
   "metadata": {},
   "source": [
    "# Download specific satelite imagery\n",
    "this is how you download a speficic image given its product id"
   ]
  },
  {
   "cell_type": "code",
   "execution_count": null,
   "id": "fc983c40",
   "metadata": {
    "vscode": {
     "languageId": "coffeescript"
    }
   },
   "outputs": [],
   "source": [
    "planetscopedownload.write_api_key_file(api_key='enter your api key here', data_dir=data_dir)\n",
    "\n",
    "api_path = os.path.join(data_dir, 'planetscope', \"PlanetScope_API_key.txt\")    \n",
    "PLANET_API_KEY = planetscopedownload.load_api_key(api_path)\n",
    "\n",
    "\n",
    "# set up site information\n",
    "sitename = 'arrecifegrancanarias'\n",
    "\n",
    "# imagery will be cliped to this area of interest\n",
    "polygon = [\n",
    "    [-81.41396967622494, 31.035661672924554],\n",
    "    [-81.40667406770443, 31.035661672924554],\n",
    "    [-81.40667406770443, 31.053126706868298],\n",
    "    [-81.41396967622494, 31.053126706868298],\n",
    "    [-81.41396967622494, 31.035661672924554]\n",
    "]\n",
    "\n",
    "planetscopedownload.create_polygon_geojson(sitename=sitename, coords=polygon, data_dir=data_dir) # saves AOI in a geojson so it cam be used for later downloads\n",
    "\n",
    "start_date = '2019-01-01'\n",
    "end_date = '2019-01-15'"
   ]
  }
 ],
 "metadata": {
  "language_info": {
   "name": "python"
  }
 },
 "nbformat": 4,
 "nbformat_minor": 5
}
