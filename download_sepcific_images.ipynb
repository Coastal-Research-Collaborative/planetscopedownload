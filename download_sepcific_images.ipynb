{
 "cells": [
  {
   "cell_type": "code",
   "execution_count": null,
   "id": "b2ab0985",
   "metadata": {},
   "outputs": [],
   "source": [
    "import os\n",
    "import importlib\n",
    "from planetscopedownload import planetscopedownload\n",
    "importlib.reload(planetscopedownload)"
   ]
  },
  {
   "cell_type": "markdown",
   "id": "4eabdf71",
   "metadata": {},
   "source": [
    "# Download specific satelite imagery\n",
    "this is how you download a speficic image given its product id"
   ]
  },
  {
   "cell_type": "code",
   "execution_count": null,
   "id": "fc983c40",
   "metadata": {},
   "outputs": [],
   "source": []
  },
  {
   "cell_type": "code",
   "execution_count": null,
   "id": "1a700092",
   "metadata": {},
   "outputs": [],
   "source": []
  }
 ],
 "metadata": {
  "language_info": {
   "name": "python"
  }
 },
 "nbformat": 4,
 "nbformat_minor": 5
}
